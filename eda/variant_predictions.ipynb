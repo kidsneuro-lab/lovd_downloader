{
 "cells": [
  {
   "cell_type": "code",
   "execution_count": 167,
   "metadata": {},
   "outputs": [],
   "source": [
    "import requests, sys\n",
    "import pandas as pd\n",
    "import json"
   ]
  },
  {
   "cell_type": "code",
   "execution_count": 168,
   "metadata": {},
   "outputs": [],
   "source": [
    "var = pd.read_csv(\"../variants.tsv\", sep=\"\\t\")"
   ]
  },
  {
   "cell_type": "code",
   "execution_count": 169,
   "metadata": {},
   "outputs": [],
   "source": [
    "hgnc_gene_chr_map = pd.read_csv(\"hgnc_gene_chr_map.tsv\", sep=\"\\t\")"
   ]
  },
  {
   "cell_type": "markdown",
   "metadata": {},
   "source": [
    "# Cleanup hgnc gene map entries and remove any entries without a chromosome location"
   ]
  },
  {
   "cell_type": "code",
   "execution_count": 170,
   "metadata": {},
   "outputs": [],
   "source": [
    "hgnc_gene_chr_map.drop(hgnc_gene_chr_map[hgnc_gene_chr_map.Chromosome.isna()].index, inplace=True)"
   ]
  },
  {
   "cell_type": "code",
   "execution_count": 172,
   "metadata": {},
   "outputs": [],
   "source": [
    "hgnc_gene_chr_map['Chromosome'] = hgnc_gene_chr_map['Chromosome'].str.replace(\"p.*|q.*\",\"\")"
   ]
  },
  {
   "cell_type": "code",
   "execution_count": 173,
   "metadata": {},
   "outputs": [],
   "source": [
    "hgnc_gene_chr_map.rename(columns={'Approved symbol':'Gene'}, inplace=True)"
   ]
  },
  {
   "cell_type": "markdown",
   "metadata": {},
   "source": [
    "# Combine variants and hgnc map so that we know which chromosome a gene belongs to"
   ]
  },
  {
   "cell_type": "code",
   "execution_count": 174,
   "metadata": {},
   "outputs": [],
   "source": [
    "var = var.merge(hgnc_gene_chr_map, how='left', on='Gene')"
   ]
  },
  {
   "cell_type": "code",
   "execution_count": 176,
   "metadata": {},
   "outputs": [],
   "source": [
    "var['hgvs_g'] = var.apply(lambda x: \"chr{}:{}\".format(x['Chromosome'], x['DNA_change_genomic_hg19']), axis=1)"
   ]
  },
  {
   "cell_type": "code",
   "execution_count": 177,
   "metadata": {},
   "outputs": [],
   "source": [
    "hgvs_list = var['hgvs_g'][~var['hgvs_g'].str.contains(\"?\", regex=False)]"
   ]
  },
  {
   "cell_type": "code",
   "execution_count": 178,
   "metadata": {},
   "outputs": [],
   "source": [
    "hgvs_list.drop_duplicates().to_csv(\"../hgvslist.txt\", index=False, header=False)"
   ]
  },
  {
   "cell_type": "code",
   "execution_count": 182,
   "metadata": {},
   "outputs": [],
   "source": [
    "var.drop_duplicates().to_csv(\"variants2.tsv\", index=False, header=True, sep=\"\\t\")"
   ]
  },
  {
   "cell_type": "markdown",
   "metadata": {},
   "source": [
    "# Obtain VEP predictions"
   ]
  },
  {
   "cell_type": "code",
   "execution_count": 250,
   "metadata": {},
   "outputs": [],
   "source": [
    "import re"
   ]
  },
  {
   "cell_type": "code",
   "execution_count": 251,
   "metadata": {},
   "outputs": [],
   "source": [
    "vep = pd.read_csv(\"variants2.txt\", sep=\"\\t\")"
   ]
  },
  {
   "cell_type": "code",
   "execution_count": 252,
   "metadata": {},
   "outputs": [],
   "source": [
    "vcf = pd.read_csv('variants2.vcf', skiprows=3, sep=\"\\t\")"
   ]
  },
  {
   "cell_type": "code",
   "execution_count": 253,
   "metadata": {},
   "outputs": [],
   "source": [
    "vcf = vcf[['ID','#CHROM','POS','REF','ALT']].rename(columns={'ID':'hgvs_g','#CHROM':'CHROM'}).drop_duplicates()"
   ]
  },
  {
   "cell_type": "code",
   "execution_count": 254,
   "metadata": {},
   "outputs": [],
   "source": [
    "var['key'] = var.apply(lambda x: \"{}-{}\".format(re.sub('\\..+',\"\",x['Transcript']), x['hgvs_g']), axis=1)"
   ]
  },
  {
   "cell_type": "code",
   "execution_count": 255,
   "metadata": {},
   "outputs": [],
   "source": [
    "vep['key'] = vep.apply(lambda x: \"{}-{}\".format(re.sub('\\..+',\"\",x['Feature']), x['#Uploaded_variation']), axis=1)"
   ]
  },
  {
   "cell_type": "code",
   "execution_count": 256,
   "metadata": {},
   "outputs": [],
   "source": [
    "vep.drop(columns=['Gene'], inplace=True)"
   ]
  },
  {
   "cell_type": "code",
   "execution_count": 257,
   "metadata": {},
   "outputs": [],
   "source": [
    "var2 = var.merge(vep, how='left', on='key')"
   ]
  },
  {
   "cell_type": "code",
   "execution_count": 258,
   "metadata": {},
   "outputs": [],
   "source": [
    "var3 = var2.merge(vcf, how='left', on='hgvs_g')"
   ]
  },
  {
   "cell_type": "code",
   "execution_count": 259,
   "metadata": {},
   "outputs": [],
   "source": [
    "var3.drop(columns=['#Uploaded_variation','key'], inplace=True)"
   ]
  },
  {
   "cell_type": "code",
   "execution_count": 260,
   "metadata": {},
   "outputs": [],
   "source": [
    "var3.to_csv(\"variants_vep.tsv\", index=False, header=True, sep=\"\\t\")"
   ]
  },
  {
   "cell_type": "code",
   "execution_count": 261,
   "metadata": {},
   "outputs": [
    {
     "data": {
      "text/plain": [
       "VUS                                                                                          4363\n",
       "-                                                                                            1790\n",
       "likely benign                                                                                1778\n",
       "benign                                                                                       1472\n",
       "pathogenic                                                                                   1078\n",
       "                                                                                             ... \n",
       "likely benign, likely pathogenic, benign, likely pathogenic (recessive)                         1\n",
       "pathogenic (recessive), VUS, likely pathogenic (recessive), likely pathogenic, pathogenic       1\n",
       "pathogenic (recessive), likely pathogenic, pathogenic                                           1\n",
       "pathogenic, likely pathogenic (recessive), pathogenic (recessive)                               1\n",
       "VUS, pathogenic, likely benign, likely pathogenic (recessive)                                   1\n",
       "Name: Clinical_classification, Length: 164, dtype: int64"
      ]
     },
     "execution_count": 261,
     "metadata": {},
     "output_type": "execute_result"
    }
   ],
   "source": [
    "var3['Clinical_classification'].value_counts()"
   ]
  }
 ],
 "metadata": {
  "kernelspec": {
   "display_name": "Python 3",
   "language": "python",
   "name": "python3"
  },
  "language_info": {
   "codemirror_mode": {
    "name": "ipython",
    "version": 3
   },
   "file_extension": ".py",
   "mimetype": "text/x-python",
   "name": "python",
   "nbconvert_exporter": "python",
   "pygments_lexer": "ipython3",
   "version": "3.6.10"
  }
 },
 "nbformat": 4,
 "nbformat_minor": 4
}
