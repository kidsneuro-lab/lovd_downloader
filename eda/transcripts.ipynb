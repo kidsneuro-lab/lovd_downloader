{
 "cells": [
  {
   "cell_type": "code",
   "execution_count": 1,
   "metadata": {},
   "outputs": [
    {
     "name": "stderr",
     "output_type": "stream",
     "text": [
      "/Users/himanshujoshi/.pyenv/versions/3.6.10/envs/lovd_downloader/lib/python3.6/site-packages/pandas/compat/__init__.py:117: UserWarning: Could not import the lzma module. Your installed Python is incomplete. Attempting to use lzma compression will result in a RuntimeError.\n",
      "  warnings.warn(msg)\n"
     ]
    }
   ],
   "source": [
    "import requests\n",
    "import pandas as pd\n",
    "from bs4 import BeautifulSoup\n",
    "import lxml\n",
    "import math"
   ]
  },
  {
   "cell_type": "code",
   "execution_count": 2,
   "metadata": {},
   "outputs": [],
   "source": [
    "headers = {'Connection':'keep-alive',\n",
    "           'pragma':'no-cache',\n",
    "           'cache-control':'no-cache',\n",
    "           'Upgrade-Insecure-Requests':'1',\n",
    "           'User-Agent':'Mozilla/5.0 (Macintosh; Intel Mac OS X 10_15_5) AppleWebKit/537.36 (KHTML, like Gecko) Chrome/81.0.4044.138 Safari/537.36',\n",
    "           'Accept':'text/html,application/xhtml+xml,application/xml;q=0.9,image/webp,image/apng,*/*;q=0.8,application/signed-exchange;v=b3;q=0.9',\n",
    "           'Cookie':'lovd_cookie_check=OK; PHPSESSID_53786324d4c6cf1d33a3e594a92591aa=jasm8qk8mpv87qipkmerimjec6; lovd_cookie_check=OK; PHPSESSID_53786324d4c6cf1d33a3e594a92591aa=jasm8qk8mpv87qipkmerimjec6'}"
   ]
  },
  {
   "cell_type": "code",
   "execution_count": 3,
   "metadata": {},
   "outputs": [],
   "source": [
    "params = {'order':'variants',\n",
    "          'page_size':100,\n",
    "          'page':1}"
   ]
  },
  {
   "cell_type": "code",
   "execution_count": 4,
   "metadata": {},
   "outputs": [],
   "source": [
    "genes_list = []"
   ]
  },
  {
   "cell_type": "code",
   "execution_count": 5,
   "metadata": {},
   "outputs": [],
   "source": [
    "url = 'https://databases.lovd.nl/shared/transcripts'"
   ]
  },
  {
   "cell_type": "code",
   "execution_count": 6,
   "metadata": {},
   "outputs": [],
   "source": [
    "r = requests.get(url, headers=headers, params=params)"
   ]
  },
  {
   "cell_type": "code",
   "execution_count": 7,
   "metadata": {},
   "outputs": [],
   "source": [
    "soup = BeautifulSoup(r.content)"
   ]
  },
  {
   "cell_type": "code",
   "execution_count": 8,
   "metadata": {},
   "outputs": [],
   "source": [
    "total_entries = int(soup.find(\"input\", {'name':'total'})['value'])"
   ]
  },
  {
   "cell_type": "code",
   "execution_count": 9,
   "metadata": {},
   "outputs": [
    {
     "data": {
      "text/plain": [
       "24"
      ]
     },
     "execution_count": 9,
     "metadata": {},
     "output_type": "execute_result"
    }
   ],
   "source": [
    "math.ceil(total_entries / 1000)"
   ]
  },
  {
   "cell_type": "code",
   "execution_count": 10,
   "metadata": {},
   "outputs": [],
   "source": [
    "a=soup.find(id='viewlistTable_Transcripts')"
   ]
  },
  {
   "cell_type": "code",
   "execution_count": 11,
   "metadata": {},
   "outputs": [
    {
     "data": {
      "text/plain": [
       "'<table border=\"0\" cellpadding=\"0\" cellspacing=\"1\" class=\"data\" id=\"viewlistTable_Transcripts\">\\n <thead>\\n  <tr>\\n   <th class=\"order\" data-allow_find_replace=\"0\" data-fieldname=\"id_\" valign=\"top\">\\n    <img alt=\"\" height=\"1\" id=\"viewlistTable_Transcripts_colwidth_id_\" src=\"gfx/trans.png\" width=\"70\"/>\\n    <br/>\\n    <div onclick=\"document.forms[\\'viewlistForm_Transcripts\\'].order.value=\\'id_,ASC\\'; if (document.forms[\\'viewlistForm_Transcripts\\'].page) { document.forms[\\'viewlistForm_Transcripts\\'].page.value=1; } lovd_AJAX_viewListSubmit(\\'Transcripts\\');\" style=\"position : relative;\">\\n     <img alt=\"\" height=\"12\" src=\"gfx/order_arrow.png\" style=\"position : absolute; top : 2px; right : 0px;\" title=\"\" width=\"13\"/>\\n     ID\\n    </div>\\n    <input name=\"search_id_\" onkeydown=\"if (event.keyCode == 13) { if (document.forms[\\'viewlistForm_Transcripts\\'].page) { document.forms[\\'viewlistForm_Transcripts\\'].page.value=1; } setTimeout(\\'lovd_AJAX_viewListSubmit(\\\\\\'Transcripts\\\\\\')\\', 0); return false;}\" style=\"width : 64px; font-weight : normal;\" title=\"ID field should contain...\" type=\"text\" value=\"\"/>\\n   </th>\\n   <th class=\"order\" data-allow_find_replace=\"0\" data-fieldname=\"chromosome\" valign=\"top\">\\n    <img alt=\"\" height=\"1\" id=\"viewlistTable_Transcripts_colwidth_chromosome\" src=\"gfx/trans.png\" width=\"40\"/>\\n    <br/>\\n    <div onclick=\"document.forms[\\'viewlistForm_Transcripts\\'].order.value=\\'chromosome,ASC\\'; if (document.forms[\\'viewlistForm_Transcripts\\'].page) { document.forms[\\'viewlistForm_Transcripts\\'].page.value=1; } lovd_AJAX_viewListSubmit(\\'Transcripts\\');\" style=\"position : relative;\">\\n     <img alt=\"\" height=\"12\" src=\"gfx/order_arrow.png\" style=\"position : absolute; top : 2px; right : 0px;\" title=\"\" width=\"13\"/>\\n     Chr\\n    </div>\\n    <input name=\"search_chromosome\" onkeydown=\"if (event.keyCode == 13) { if (document.forms[\\'viewlistForm_Transcripts\\'].page) { document.forms[\\'viewlistForm_Transcripts\\'].page.value=1; } setTimeout(\\'lovd_AJAX_viewListSubmit(\\\\\\'Transcripts\\\\\\')\\', 0); return false;}\" style=\"width : 34px; font-weight : normal;\" title=\"Chr field should contain...\" type=\"text\" value=\"\"/>\\n   </th>\\n   <th class=\"order\" data-allow_find_replace=\"0\" data-fieldname=\"geneid\" valign=\"top\">\\n    <img alt=\"\" height=\"1\" id=\"viewlistTable_Transcripts_colwidth_geneid\" src=\"gfx/trans.png\" width=\"100\"/>\\n    <br/>\\n    <div onclick=\"document.forms[\\'viewlistForm_Transcripts\\'].order.value=\\'geneid,ASC\\'; if (document.forms[\\'viewlistForm_Transcripts\\'].page) { document.forms[\\'viewlistForm_Transcripts\\'].page.value=1; } lovd_AJAX_viewListSubmit(\\'Transcripts\\');\" style=\"position : relative;\">\\n     <img alt=\"\" height=\"12\" src=\"gfx/order_arrow.png\" style=\"position : absolute; top : 2px; right : 0px;\" title=\"\" width=\"13\"/>\\n     Gene\\xa0ID\\n    </div>\\n    <input name=\"search_geneid\" onkeydown=\"if (event.keyCode == 13) { if (document.forms[\\'viewlistForm_Transcripts\\'].page) { document.forms[\\'viewlistForm_Transcripts\\'].page.value=1; } setTimeout(\\'lovd_AJAX_viewListSubmit(\\\\\\'Transcripts\\\\\\')\\', 0); return false;}\" style=\"width : 94px; font-weight : normal;\" title=\"Gene ID field should contain...\" type=\"text\" value=\"\"/>\\n   </th>\\n   <th class=\"order\" data-allow_find_replace=\"0\" data-fieldname=\"name\" valign=\"top\">\\n    <img alt=\"\" height=\"1\" id=\"viewlistTable_Transcripts_colwidth_name\" src=\"gfx/trans.png\" width=\"300\"/>\\n    <br/>\\n    <div onclick=\"document.forms[\\'viewlistForm_Transcripts\\'].order.value=\\'name,ASC\\'; if (document.forms[\\'viewlistForm_Transcripts\\'].page) { document.forms[\\'viewlistForm_Transcripts\\'].page.value=1; } lovd_AJAX_viewListSubmit(\\'Transcripts\\');\" style=\"position : relative;\">\\n     <img alt=\"\" height=\"12\" src=\"gfx/order_arrow.png\" style=\"position : absolute; top : 2px; right : 0px;\" title=\"\" width=\"13\"/>\\n     Name\\n    </div>\\n    <input name=\"search_name\" onkeydown=\"if (event.keyCode == 13) { if (document.forms[\\'viewlistForm_Transcripts\\'].page) { document.forms[\\'viewlistForm_Transcripts\\'].page.value=1; } setTimeout(\\'lovd_AJAX_viewListSubmit(\\\\\\'Transcripts\\\\\\')\\', 0); return false;}\" style=\"width : 294px; font-weight : normal;\" title=\"Name field should contain...\" type=\"text\" value=\"\"/>\\n   </th>\\n   <th class=\"order\" data-allow_find_replace=\"0\" data-fieldname=\"id_ncbi\" valign=\"top\">\\n    <img alt=\"\" height=\"1\" id=\"viewlistTable_Transcripts_colwidth_id_ncbi\" src=\"gfx/trans.png\" width=\"120\"/>\\n    <br/>\\n    <div onclick=\"document.forms[\\'viewlistForm_Transcripts\\'].order.value=\\'id_ncbi,ASC\\'; if (document.forms[\\'viewlistForm_Transcripts\\'].page) { document.forms[\\'viewlistForm_Transcripts\\'].page.value=1; } lovd_AJAX_viewListSubmit(\\'Transcripts\\');\" style=\"position : relative;\">\\n     <img alt=\"\" height=\"12\" src=\"gfx/order_arrow.png\" style=\"position : absolute; top : 2px; right : 0px;\" title=\"\" width=\"13\"/>\\n     NCBI\\xa0ID\\n    </div>\\n    <input name=\"search_id_ncbi\" onkeydown=\"if (event.keyCode == 13) { if (document.forms[\\'viewlistForm_Transcripts\\'].page) { document.forms[\\'viewlistForm_Transcripts\\'].page.value=1; } setTimeout(\\'lovd_AJAX_viewListSubmit(\\\\\\'Transcripts\\\\\\')\\', 0); return false;}\" style=\"width : 114px; font-weight : normal;\" title=\"NCBI ID field should contain...\" type=\"text\" value=\"\"/>\\n   </th>\\n   <th class=\"order\" data-allow_find_replace=\"0\" data-fieldname=\"id_protein_ncbi\" valign=\"top\">\\n    <img alt=\"\" height=\"1\" id=\"viewlistTable_Transcripts_colwidth_id_protein_ncbi\" src=\"gfx/trans.png\" width=\"120\"/>\\n    <br/>\\n    <div onclick=\"document.forms[\\'viewlistForm_Transcripts\\'].order.value=\\'id_protein_ncbi,ASC\\'; if (document.forms[\\'viewlistForm_Transcripts\\'].page) { document.forms[\\'viewlistForm_Transcripts\\'].page.value=1; } lovd_AJAX_viewListSubmit(\\'Transcripts\\');\" style=\"position : relative;\">\\n     <img alt=\"\" height=\"12\" src=\"gfx/order_arrow.png\" style=\"position : absolute; top : 2px; right : 0px;\" title=\"\" width=\"13\"/>\\n     NCBI\\xa0Protein\\xa0ID\\n    </div>\\n    <input name=\"search_id_protein_ncbi\" onkeydown=\"if (event.keyCode == 13) { if (document.forms[\\'viewlistForm_Transcripts\\'].page) { document.forms[\\'viewlistForm_Transcripts\\'].page.value=1; } setTimeout(\\'lovd_AJAX_viewListSubmit(\\\\\\'Transcripts\\\\\\')\\', 0); return false;}\" style=\"width : 114px; font-weight : normal;\" title=\"NCBI Protein ID field should contain...\" type=\"text\" value=\"\"/>\\n   </th>\\n   <th class=\"ordered\" data-allow_find_replace=\"0\" data-fieldname=\"variants\" valign=\"top\">\\n    <img alt=\"\" height=\"1\" id=\"viewlistTable_Transcripts_colwidth_variants\" src=\"gfx/trans.png\" width=\"70\"/>\\n    <br/>\\n    <div onclick=\"document.forms[\\'viewlistForm_Transcripts\\'].order.value=\\'variants,ASC\\'; if (document.forms[\\'viewlistForm_Transcripts\\'].page) { document.forms[\\'viewlistForm_Transcripts\\'].page.value=1; } lovd_AJAX_viewListSubmit(\\'Transcripts\\');\" style=\"position : relative;\">\\n     <img alt=\"Descending\" height=\"12\" src=\"gfx/order_arrow_desc.png\" style=\"position : absolute; top : 2px; right : 0px;\" title=\"Descending\" width=\"13\"/>\\n     Variants\\n    </div>\\n    <input name=\"search_variants\" onkeydown=\"if (event.keyCode == 13) { if (document.forms[\\'viewlistForm_Transcripts\\'].page) { document.forms[\\'viewlistForm_Transcripts\\'].page.value=1; } setTimeout(\\'lovd_AJAX_viewListSubmit(\\\\\\'Transcripts\\\\\\')\\', 0); return false;}\" style=\"width : 64px; font-weight : normal;\" title=\"Variants field should contain...\" type=\"text\" value=\"\"/>\\n   </th>\\n  </tr>\\n </thead>\\n <tr class=\"data\" data-href=\"/shared/transcripts/00003479\" id=\"00003479\" onclick=\"javascript:window.location.href=this.getAttribute(\\'data-href\\');\" style=\"cursor : pointer;\" valign=\"top\">\\n  <td style=\"text-align : right;\">\\n   <a class=\"hide\" href=\"transcripts/00003479\">\\n    00003479\\n   </a>\\n  </td>\\n  <td>\\n   13\\n  </td>\\n  <td>\\n   BRCA2\\n  </td>\\n  <td>\\n   breast cancer 2, early onset\\n  </td>\\n  <td>\\n   NM_000059.3\\n  </td>\\n  <td>\\n   NP_000050.2\\n  </td>\\n  <td class=\"ordered\" style=\"text-align : right;\">\\n   33008\\n  </td>\\n </tr>\\n <tr class=\"data\" data-href=\"/shared/transcripts/00003478\" id=\"00003478\" onclick=\"javascript:window.location.href=this.getAttribute(\\'data-href\\');\" style=\"cursor : pointer;\" valign=\"top\">\\n  <td style=\"text-align : right;\">\\n   <a class=\"hide\" href=\"transcripts/00003478\">\\n    00003478\\n   </a>\\n  </td>\\n  <td>\\n   17\\n  </td>\\n  <td>\\n   BRCA1\\n  </td>\\n  <td>\\n   transcript variant 1\\n  </td>\\n  <td>\\n   NM_007294.3\\n  </td>\\n  <td>\\n   NP_009225.1\\n  </td>\\n  <td class=\"ordered\" style=\"text-align : right;\">\\n   31267\\n  </td>\\n </tr>\\n <tr class=\"data\" data-href=\"/shared/transcripts/00000024\" id=\"00000024\" onclick=\"javascript:window.location.href=this.getAttribute(\\'data-href\\');\" style=\"cursor : pointer;\" valign=\"top\">\\n  <td style=\"text-align : right;\">\\n   <a class=\"hide\" href=\"transcripts/00000024\">\\n    00000024\\n   </a>\\n  </td>\\n  <td>\\n   X\\n  </td>\\n  <td>\\n   DMD\\n  </td>\\n  <td>\\n   dystrophin, transcript variant Dp427m\\n  </td>\\n  <td>\\n   NM_004006.2\\n  </td>\\n  <td>\\n   NP_003997.1\\n  </td>\\n  <td class=\"ordered\" style=\"text-align : right;\">\\n   26820\\n  </td>\\n </tr>\\n <tr class=\"data\" data-href=\"/shared/transcripts/00000017\" id=\"00000017\" onclick=\"javascript:window.location.href=this.getAttribute(\\'data-href\\');\" style=\"cursor : pointer;\" valign=\"top\">\\n  <td style=\"text-align : right;\">\\n   <a class=\"hide\" href=\"transcripts/00000017\">\\n    00000017\\n   </a>\\n  </td>\\n  <td>\\n   11\\n  </td>\\n  <td>\\n   HBB\\n  </td>\\n  <td>\\n   hemoglobin, beta\\n  </td>\\n  <td>\\n   NM_000518.4\\n  </td>\\n  <td>\\n   NP_000509.1\\n  </td>\\n  <td class=\"ordered\" style=\"text-align : right;\">\\n   20926\\n  </td>\\n </tr>\\n <tr class=\"data\" data-href=\"/shared/transcripts/00025456\" id=\"00025456\" onclick=\"javascript:window.location.href=this.getAttribute(\\'data-href\\');\" style=\"cursor : pointer;\" valign=\"top\">\\n  <td style=\"text-align : right;\">\\n   <a class=\"hide\" href=\"transcripts/00025456\">\\n    00025456\\n   </a>\\n  </td>\\n  <td>\\n   X\\n  </td>\\n  <td>\\n   G6PD\\n  </td>\\n  <td>\\n   transcript variant 1\\n  </td>\\n  <td>\\n   NM_000402.3\\n  </td>\\n  <td>\\n   NP_000393.4\\n  </td>\\n  <td class=\"ordered\" style=\"text-align : right;\">\\n   11035\\n  </td>\\n </tr>\\n <tr class=\"data\" data-href=\"/shared/transcripts/00025458\" id=\"00025458\" onclick=\"javascript:window.location.href=this.getAttribute(\\'data-href\\');\" style=\"cursor : pointer;\" valign=\"top\">\\n  <td style=\"text-align : right;\">\\n   <a class=\"hide\" href=\"transcripts/00025458\">\\n    00025458\\n   </a>\\n  </td>\\n  <td>\\n   X\\n  </td>\\n  <td>\\n   G6PD\\n  </td>\\n  <td>\\n   transcript variant 2\\n  </td>\\n  <td>\\n   NM_001042351.1\\n  </td>\\n  <td>\\n   NP_001035810.1\\n  </td>\\n  <td class=\"ordered\" style=\"text-align : right;\">\\n   11030\\n  </td>\\n </tr>\\n <tr class=\"data\" data-href=\"/shared/transcripts/00001778\" id=\"00001778\" onclick=\"javascript:window.location.href=this.getAttribute(\\'data-href\\');\" style=\"cursor : pointer;\" valign=\"top\">\\n  <td style=\"text-align : right;\">\\n   <a class=\"hide\" href=\"transcripts/00001778\">\\n    00001778\\n   </a>\\n  </td>\\n  <td>\\n   2\\n  </td>\\n  <td>\\n   TTN\\n  </td>\\n  <td>\\n   transcript variant IC\\n  </td>\\n  <td>\\n   NM_001267550.1\\n  </td>\\n  <td>\\n   NP_001254479.1\\n  </td>\\n  <td class=\"ordered\" style=\"text-align : right;\">\\n   10334\\n  </td>\\n </tr>\\n <tr class=\"data\" data-href=\"/shared/transcripts/00000008\" id=\"00000008\" onclick=\"javascript:window.location.href=this.getAttribute(\\'data-href\\');\" style=\"cursor : pointer;\" valign=\"top\">\\n  <td style=\"text-align : right;\">\\n   <a class=\"hide\" href=\"transcripts/00000008\">\\n    00000008\\n   </a>\\n  </td>\\n  <td>\\n   1\\n  </td>\\n  <td>\\n   USH2A\\n  </td>\\n  <td>\\n   Usher syndrome 2A (autosomal recessive, mild), transcript variant 2\\n  </td>\\n  <td>\\n   NM_206933.2\\n  </td>\\n  <td>\\n   NP_996816.2\\n  </td>\\n  <td class=\"ordered\" style=\"text-align : right;\">\\n   9981\\n  </td>\\n </tr>\\n <tr class=\"data\" data-href=\"/shared/transcripts/00013676\" id=\"00013676\" onclick=\"javascript:window.location.href=this.getAttribute(\\'data-href\\');\" style=\"cursor : pointer;\" valign=\"top\">\\n  <td style=\"text-align : right;\">\\n   <a class=\"hide\" href=\"transcripts/00013676\">\\n    00013676\\n   </a>\\n  </td>\\n  <td>\\n   3\\n  </td>\\n  <td>\\n   MLH1\\n  </td>\\n  <td>\\n   transcript variant 1\\n  </td>\\n  <td>\\n   NM_000249.3\\n  </td>\\n  <td>\\n   NP_000240.1\\n  </td>\\n  <td class=\"ordered\" style=\"text-align : right;\">\\n   9739\\n  </td>\\n </tr>\\n <tr class=\"data\" data-href=\"/shared/transcripts/00001847\" id=\"00001847\" onclick=\"javascript:window.location.href=this.getAttribute(\\'data-href\\');\" style=\"cursor : pointer;\" valign=\"top\">\\n  <td style=\"text-align : right;\">\\n   <a class=\"hide\" href=\"transcripts/00001847\">\\n    00001847\\n   </a>\\n  </td>\\n  <td>\\n   1\\n  </td>\\n  <td>\\n   ABCA4\\n  </td>\\n  <td>\\n   ATP-binding cassette, sub-family A (ABC1), member 4\\n  </td>\\n  <td>\\n   NM_000350.2\\n  </td>\\n  <td>\\n   NP_000341.2\\n  </td>\\n  <td class=\"ordered\" style=\"text-align : right;\">\\n   8839\\n  </td>\\n </tr>\\n <tr class=\"data\" data-href=\"/shared/transcripts/00000322\" id=\"00000322\" onclick=\"javascript:window.location.href=this.getAttribute(\\'data-href\\');\" style=\"cursor : pointer;\" valign=\"top\">\\n  <td style=\"text-align : right;\">\\n   <a class=\"hide\" href=\"transcripts/00000322\">\\n    00000322\\n   </a>\\n  </td>\\n  <td>\\n   X\\n  </td>\\n  <td>\\n   F8\\n  </td>\\n  <td>\\n   transcript variant 1\\n  </td>\\n  <td>\\n   NM_000132.3\\n  </td>\\n  <td>\\n   NP_000123.1\\n  </td>\\n  <td class=\"ordered\" style=\"text-align : right;\">\\n   8595\\n  </td>\\n </tr>\\n <tr class=\"data\" data-href=\"/shared/transcripts/00021926\" id=\"00021926\" onclick=\"javascript:window.location.href=this.getAttribute(\\'data-href\\');\" style=\"cursor : pointer;\" valign=\"top\">\\n  <td style=\"text-align : right;\">\\n   <a class=\"hide\" href=\"transcripts/00021926\">\\n    00021926\\n   </a>\\n  </td>\\n  <td>\\n   16\\n  </td>\\n  <td>\\n   TSC2\\n  </td>\\n  <td>\\n   transcript variant 1\\n  </td>\\n  <td>\\n   NM_000548.3\\n  </td>\\n  <td>\\n   NP_000539.2\\n  </td>\\n  <td class=\"ordered\" style=\"text-align : right;\">\\n   8211\\n  </td>\\n </tr>\\n <tr class=\"data\" data-href=\"/shared/transcripts/00013950\" id=\"00013950\" onclick=\"javascript:window.location.href=this.getAttribute(\\'data-href\\');\" style=\"cursor : pointer;\" valign=\"top\">\\n  <td style=\"text-align : right;\">\\n   <a class=\"hide\" href=\"transcripts/00013950\">\\n    00013950\\n   </a>\\n  </td>\\n  <td>\\n   2\\n  </td>\\n  <td>\\n   MSH2\\n  </td>\\n  <td>\\n   transcript variant 1\\n  </td>\\n  <td>\\n   NM_000251.2\\n  </td>\\n  <td>\\n   NP_000242.1\\n  </td>\\n  <td class=\"ordered\" style=\"text-align : right;\">\\n   7814\\n  </td>\\n </tr>\\n <tr class=\"data\" data-href=\"/shared/transcripts/00009737\" id=\"00009737\" onclick=\"javascript:window.location.href=this.getAttribute(\\'data-href\\');\" style=\"cursor : pointer;\" valign=\"top\">\\n  <td style=\"text-align : right;\">\\n   <a class=\"hide\" href=\"transcripts/00009737\">\\n    00009737\\n   </a>\\n  </td>\\n  <td>\\n   4\\n  </td>\\n  <td>\\n   HTT\\n  </td>\\n  <td>\\n   huntingtin\\n  </td>\\n  <td>\\n   NM_002111.6\\n  </td>\\n  <td>\\n   NP_002102.4\\n  </td>\\n  <td class=\"ordered\" style=\"text-align : right;\">\\n   6512\\n  </td>\\n </tr>\\n <tr class=\"data\" data-href=\"/shared/transcripts/00009496\" id=\"00009496\" onclick=\"javascript:window.location.href=this.getAttribute(\\'data-href\\');\" style=\"cursor : pointer;\" valign=\"top\">\\n  <td style=\"text-align : right;\">\\n   <a class=\"hide\" href=\"transcripts/00009496\">\\n    00009496\\n   </a>\\n  </td>\\n  <td>\\n   12\\n  </td>\\n  <td>\\n   HNF1A\\n  </td>\\n  <td>\\n   HNF1 homeobox A\\n  </td>\\n  <td>\\n   NM_000545.5\\n  </td>\\n  <td>\\n   NP_000536.5\\n  </td>\\n  <td class=\"ordered\" style=\"text-align : right;\">\\n   6229\\n  </td>\\n </tr>\\n <tr class=\"data\" data-href=\"/shared/transcripts/00002660\" id=\"00002660\" onclick=\"javascript:window.location.href=this.getAttribute(\\'data-href\\');\" style=\"cursor : pointer;\" valign=\"top\">\\n  <td style=\"text-align : right;\">\\n   <a class=\"hide\" href=\"transcripts/00002660\">\\n    00002660\\n   </a>\\n  </td>\\n  <td>\\n   5\\n  </td>\\n  <td>\\n   APC\\n  </td>\\n  <td>\\n   transcript variant 3\\n  </td>\\n  <td>\\n   NM_000038.5\\n  </td>\\n  <td>\\n   NP_000029.2\\n  </td>\\n  <td class=\"ordered\" style=\"text-align : right;\">\\n   5427\\n  </td>\\n </tr>\\n <tr class=\"data\" data-href=\"/shared/transcripts/00014502\" id=\"00014502\" onclick=\"javascript:window.location.href=this.getAttribute(\\'data-href\\');\" style=\"cursor : pointer;\" valign=\"top\">\\n  <td style=\"text-align : right;\">\\n   <a class=\"hide\" href=\"transcripts/00014502\">\\n    00014502\\n   </a>\\n  </td>\\n  <td>\\n   17\\n  </td>\\n  <td>\\n   NF1\\n  </td>\\n  <td>\\n   transcript variant 2\\n  </td>\\n  <td>\\n   NM_000267.3\\n  </td>\\n  <td>\\n   NP_000258.1\\n  </td>\\n  <td class=\"ordered\" style=\"text-align : right;\">\\n   5083\\n  </td>\\n </tr>\\n <tr class=\"data\" data-href=\"/shared/transcripts/00000067\" id=\"00000067\" onclick=\"javascript:window.location.href=this.getAttribute(\\'data-href\\');\" style=\"cursor : pointer;\" valign=\"top\">\\n  <td style=\"text-align : right;\">\\n   <a class=\"hide\" href=\"transcripts/00000067\">\\n    00000067\\n   </a>\\n  </td>\\n  <td>\\n   X\\n  </td>\\n  <td>\\n   MECP2\\n  </td>\\n  <td>\\n   methyl CpG binding protein 2 (Rett syndrome)\\n  </td>\\n  <td>\\n   NM_004992.3\\n  </td>\\n  <td>\\n   NP_004983.1\\n  </td>\\n  <td class=\"ordered\" style=\"text-align : right;\">\\n   4710\\n  </td>\\n </tr>\\n <tr class=\"data\" data-href=\"/shared/transcripts/00001646\" id=\"00001646\" onclick=\"javascript:window.location.href=this.getAttribute(\\'data-href\\');\" style=\"cursor : pointer;\" valign=\"top\">\\n  <td style=\"text-align : right;\">\\n   <a class=\"hide\" href=\"transcripts/00001646\">\\n    00001646\\n   </a>\\n  </td>\\n  <td>\\n   11\\n  </td>\\n  <td>\\n   MYO7A\\n  </td>\\n  <td>\\n   transcript variant 1\\n  </td>\\n  <td>\\n   NM_000260.3\\n  </td>\\n  <td>\\n   NP_000251.3\\n  </td>\\n  <td class=\"ordered\" style=\"text-align : right;\">\\n   3801\\n  </td>\\n </tr>\\n <tr class=\"data\" data-href=\"/shared/transcripts/00001468\" id=\"00001468\" onclick=\"javascript:window.location.href=this.getAttribute(\\'data-href\\');\" style=\"cursor : pointer;\" valign=\"top\">\\n  <td style=\"text-align : right;\">\\n   <a class=\"hide\" href=\"transcripts/00001468\">\\n    00001468\\n   </a>\\n  </td>\\n  <td>\\n   2\\n  </td>\\n  <td>\\n   MSH6\\n  </td>\\n  <td>\\n   mutS homolog 6 (E. coli)\\n  </td>\\n  <td>\\n   NM_000179.2\\n  </td>\\n  <td>\\n   NP_000170.1\\n  </td>\\n  <td class=\"ordered\" style=\"text-align : right;\">\\n   3792\\n  </td>\\n </tr>\\n <tr class=\"data\" data-href=\"/shared/transcripts/00011039\" id=\"00011039\" onclick=\"javascript:window.location.href=this.getAttribute(\\'data-href\\');\" style=\"cursor : pointer;\" valign=\"top\">\\n  <td style=\"text-align : right;\">\\n   <a class=\"hide\" href=\"transcripts/00011039\">\\n    00011039\\n   </a>\\n  </td>\\n  <td>\\n   19\\n  </td>\\n  <td>\\n   LDLR\\n  </td>\\n  <td>\\n   transcript variant 1\\n  </td>\\n  <td>\\n   NM_000527.4\\n  </td>\\n  <td>\\n   NP_000518.1\\n  </td>\\n  <td class=\"ordered\" style=\"text-align : right;\">\\n   3670\\n  </td>\\n </tr>\\n <tr class=\"data\" data-href=\"/shared/transcripts/00000056\" id=\"00000056\" onclick=\"javascript:window.location.href=this.getAttribute(\\'data-href\\');\" style=\"cursor : pointer;\" valign=\"top\">\\n  <td style=\"text-align : right;\">\\n   <a class=\"hide\" href=\"transcripts/00000056\">\\n    00000056\\n   </a>\\n  </td>\\n  <td>\\n   9\\n  </td>\\n  <td>\\n   TSC1\\n  </td>\\n  <td>\\n   tuberous sclerosis 1, transcript variant 1\\n  </td>\\n  <td>\\n   NM_000368.4\\n  </td>\\n  <td>\\n   NP_000359.1\\n  </td>\\n  <td class=\"ordered\" style=\"text-align : right;\">\\n   3662\\n  </td>\\n </tr>\\n <tr class=\"data\" data-href=\"/shared/transcripts/00000394\" id=\"00000394\" onclick=\"javascript:window.location.href=this.getAttribute(\\'data-href\\');\" style=\"cursor : pointer;\" valign=\"top\">\\n  <td style=\"text-align : right;\">\\n   <a class=\"hide\" href=\"transcripts/00000394\">\\n    00000394\\n   </a>\\n  </td>\\n  <td>\\n   X\\n  </td>\\n  <td>\\n   F9\\n  </td>\\n  <td>\\n   coagulation factor IX\\n  </td>\\n  <td>\\n   NM_000133.3\\n  </td>\\n  <td>\\n   NP_000124.1\\n  </td>\\n  <td class=\"ordered\" style=\"text-align : right;\">\\n   3609\\n  </td>\\n </tr>\\n <tr class=\"data\" data-href=\"/shared/transcripts/00001610\" id=\"00001610\" onclick=\"javascript:window.location.href=this.getAttribute(\\'data-href\\');\" style=\"cursor : pointer;\" valign=\"top\">\\n  <td style=\"text-align : right;\">\\n   <a class=\"hide\" href=\"transcripts/00001610\">\\n    00001610\\n   </a>\\n  </td>\\n  <td>\\n   2\\n  </td>\\n  <td>\\n   DYSF\\n  </td>\\n  <td>\\n   transcript variant 8\\n  </td>\\n  <td>\\n   NM_003494.3\\n  </td>\\n  <td>\\n   NP_003485.1\\n  </td>\\n  <td class=\"ordered\" style=\"text-align : right;\">\\n   3196\\n  </td>\\n </tr>\\n <tr class=\"data\" data-href=\"/shared/transcripts/00023838\" id=\"00023838\" onclick=\"javascript:window.location.href=this.getAttribute(\\'data-href\\');\" style=\"cursor : pointer;\" valign=\"top\">\\n  <td style=\"text-align : right;\">\\n   <a class=\"hide\" href=\"transcripts/00023838\">\\n    00023838\\n   </a>\\n  </td>\\n  <td>\\n   1\\n  </td>\\n  <td>\\n   MUTYH\\n  </td>\\n  <td>\\n   transcript variant alpha5\\n  </td>\\n  <td>\\n   NM_001128425.1\\n  </td>\\n  <td>\\n   NP_001121897.1\\n  </td>\\n  <td class=\"ordered\" style=\"text-align : right;\">\\n   3102\\n  </td>\\n </tr>\\n <tr class=\"data\" data-href=\"/shared/transcripts/00000155\" id=\"00000155\" onclick=\"javascript:window.location.href=this.getAttribute(\\'data-href\\');\" style=\"cursor : pointer;\" valign=\"top\">\\n  <td style=\"text-align : right;\">\\n   <a class=\"hide\" href=\"transcripts/00000155\">\\n    00000155\\n   </a>\\n  </td>\\n  <td>\\n   11\\n  </td>\\n  <td>\\n   ATM\\n  </td>\\n  <td>\\n   ataxia telangiectasia mutated\\n  </td>\\n  <td>\\n   NM_000051.3\\n  </td>\\n  <td>\\n   NP_000042.3\\n  </td>\\n  <td class=\"ordered\" style=\"text-align : right;\">\\n   3006\\n  </td>\\n </tr>\\n <tr class=\"data\" data-href=\"/shared/transcripts/00004330\" id=\"00004330\" onclick=\"javascript:window.location.href=this.getAttribute(\\'data-href\\');\" style=\"cursor : pointer;\" valign=\"top\">\\n  <td style=\"text-align : right;\">\\n   <a class=\"hide\" href=\"transcripts/00004330\">\\n    00004330\\n   </a>\\n  </td>\\n  <td>\\n   15\\n  </td>\\n  <td>\\n   CAPN3\\n  </td>\\n  <td>\\n   transcript variant 1\\n  </td>\\n  <td>\\n   NM_000070.2\\n  </td>\\n  <td>\\n   NP_000061.1\\n  </td>\\n  <td class=\"ordered\" style=\"text-align : right;\">\\n   2918\\n  </td>\\n </tr>\\n <tr class=\"data\" data-href=\"/shared/transcripts/00024242\" id=\"00024242\" onclick=\"javascript:window.location.href=this.getAttribute(\\'data-href\\');\" style=\"cursor : pointer;\" valign=\"top\">\\n  <td style=\"text-align : right;\">\\n   <a class=\"hide\" href=\"transcripts/00024242\">\\n    00024242\\n   </a>\\n  </td>\\n  <td>\\n   17\\n  </td>\\n  <td>\\n   GAA\\n  </td>\\n  <td>\\n   transcript variant 1\\n  </td>\\n  <td>\\n   NM_000152.3\\n  </td>\\n  <td>\\n   NP_000143.2\\n  </td>\\n  <td class=\"ordered\" style=\"text-align : right;\">\\n   2820\\n  </td>\\n </tr>\\n <tr class=\"data\" data-href=\"/shared/transcripts/00023855\" id=\"00023855\" onclick=\"javascript:window.location.href=this.getAttribute(\\'data-href\\');\" style=\"cursor : pointer;\" valign=\"top\">\\n  <td style=\"text-align : right;\">\\n   <a class=\"hide\" href=\"transcripts/00023855\">\\n    00023855\\n   </a>\\n  </td>\\n  <td>\\n   22\\n  </td>\\n  <td>\\n   CYP2D6\\n  </td>\\n  <td>\\n   transcript variant 1\\n  </td>\\n  <td>\\n   NM_000106.4\\n  </td>\\n  <td>\\n   NP_000097.2\\n  </td>\\n  <td class=\"ordered\" style=\"text-align : right;\">\\n   2631\\n  </td>\\n </tr>\\n <tr class=\"data\" data-href=\"/shared/transcripts/00024106\" id=\"00024106\" onclick=\"javascript:window.location.href=this.getAttribute(\\'data-href\\');\" style=\"cursor : pointer;\" valign=\"top\">\\n  <td style=\"text-align : right;\">\\n   <a class=\"hide\" href=\"transcripts/00024106\">\\n    00024106\\n   </a>\\n  </td>\\n  <td>\\n   X\\n  </td>\\n  <td>\\n   COL4A5\\n  </td>\\n  <td>\\n   transcript variant 2\\n  </td>\\n  <td>\\n   NM_033380.2\\n  </td>\\n  <td>\\n   NP_203699.1\\n  </td>\\n  <td class=\"ordered\" style=\"text-align : right;\">\\n   2482\\n  </td>\\n </tr>\\n <tr class=\"data\" data-href=\"/shared/transcripts/00000016\" id=\"00000016\" onclick=\"javascript:window.location.href=this.getAttribute(\\'data-href\\');\" style=\"cursor : pointer;\" valign=\"top\">\\n  <td style=\"text-align : right;\">\\n   <a class=\"hide\" href=\"transcripts/00000016\">\\n    00000016\\n   </a>\\n  </td>\\n  <td>\\n   10\\n  </td>\\n  <td>\\n   CDH23\\n  </td>\\n  <td>\\n   cadherin-related 23, transcript variant 1\\n  </td>\\n  <td>\\n   NM_022124.5\\n  </td>\\n  <td>\\n   NP_071407.4\\n  </td>\\n  <td class=\"ordered\" style=\"text-align : right;\">\\n   2330\\n  </td>\\n </tr>\\n <tr class=\"data\" data-href=\"/shared/transcripts/00025415\" id=\"00025415\" onclick=\"javascript:window.location.href=this.getAttribute(\\'data-href\\');\" style=\"cursor : pointer;\" valign=\"top\">\\n  <td style=\"text-align : right;\">\\n   <a class=\"hide\" href=\"transcripts/00025415\">\\n    00025415\\n   </a>\\n  </td>\\n  <td>\\n   20\\n  </td>\\n  <td>\\n   HNF4A\\n  </td>\\n  <td>\\n   transcript variant 4\\n  </td>\\n  <td>\\n   NM_175914.4\\n  </td>\\n  <td>\\n   NP_787110.2\\n  </td>\\n  <td class=\"ordered\" style=\"text-align : right;\">\\n   2274\\n  </td>\\n </tr>\\n <tr class=\"data\" data-href=\"/shared/transcripts/00009499\" id=\"00009499\" onclick=\"javascript:window.location.href=this.getAttribute(\\'data-href\\');\" style=\"cursor : pointer;\" valign=\"top\">\\n  <td style=\"text-align : right;\">\\n   <a class=\"hide\" href=\"transcripts/00009499\">\\n    00009499\\n   </a>\\n  </td>\\n  <td>\\n   20\\n  </td>\\n  <td>\\n   HNF4A\\n  </td>\\n  <td>\\n   transcript variant 2\\n  </td>\\n  <td>\\n   NM_000457.4\\n  </td>\\n  <td>\\n   NP_000448.3\\n  </td>\\n  <td class=\"ordered\" style=\"text-align : right;\">\\n   2161\\n  </td>\\n </tr>\\n <tr class=\"data\" data-href=\"/shared/transcripts/00005230\" id=\"00005230\" onclick=\"javascript:window.location.href=this.getAttribute(\\'data-href\\');\" style=\"cursor : pointer;\" valign=\"top\">\\n  <td style=\"text-align : right;\">\\n   <a class=\"hide\" href=\"transcripts/00005230\">\\n    00005230\\n   </a>\\n  </td>\\n  <td>\\n   7\\n  </td>\\n  <td>\\n   CLCN1\\n  </td>\\n  <td>\\n   chloride channel 1, skeletal muscle\\n  </td>\\n  <td>\\n   NM_000083.2\\n  </td>\\n  <td>\\n   NP_000074.2\\n  </td>\\n  <td class=\"ordered\" style=\"text-align : right;\">\\n   2115\\n  </td>\\n </tr>\\n <tr class=\"data\" data-href=\"/shared/transcripts/00000149\" id=\"00000149\" onclick=\"javascript:window.location.href=this.getAttribute(\\'data-href\\');\" style=\"cursor : pointer;\" valign=\"top\">\\n  <td style=\"text-align : right;\">\\n   <a class=\"hide\" href=\"transcripts/00000149\">\\n    00000149\\n   </a>\\n  </td>\\n  <td>\\n   5\\n  </td>\\n  <td>\\n   GPR98\\n  </td>\\n  <td>\\n   G protein-coupled receptor 98, transcript variant 1\\n  </td>\\n  <td>\\n   NM_032119.3\\n  </td>\\n  <td>\\n   NP_115495.3\\n  </td>\\n  <td class=\"ordered\" style=\"text-align : right;\">\\n   2038\\n  </td>\\n </tr>\\n <tr class=\"data\" data-href=\"/shared/transcripts/00000065\" id=\"00000065\" onclick=\"javascript:window.location.href=this.getAttribute(\\'data-href\\');\" style=\"cursor : pointer;\" valign=\"top\">\\n  <td style=\"text-align : right;\">\\n   <a class=\"hide\" href=\"transcripts/00000065\">\\n    00000065\\n   </a>\\n  </td>\\n  <td>\\n   6\\n  </td>\\n  <td>\\n   LAMA2\\n  </td>\\n  <td>\\n   laminin, alpha 2\\n  </td>\\n  <td>\\n   NM_000426.3\\n  </td>\\n  <td>\\n   NP_000417.2\\n  </td>\\n  <td class=\"ordered\" style=\"text-align : right;\">\\n   2035\\n  </td>\\n </tr>\\n <tr class=\"data\" data-href=\"/shared/transcripts/00016417\" id=\"00016417\" onclick=\"javascript:window.location.href=this.getAttribute(\\'data-href\\');\" style=\"cursor : pointer;\" valign=\"top\">\\n  <td style=\"text-align : right;\">\\n   <a class=\"hide\" href=\"transcripts/00016417\">\\n    00016417\\n   </a>\\n  </td>\\n  <td>\\n   7\\n  </td>\\n  <td>\\n   PMS2\\n  </td>\\n  <td>\\n   transcript variant 1\\n  </td>\\n  <td>\\n   NM_000535.5\\n  </td>\\n  <td>\\n   NP_000526.1\\n  </td>\\n  <td class=\"ordered\" style=\"text-align : right;\">\\n   1951\\n  </td>\\n </tr>\\n <tr class=\"data\" data-href=\"/shared/transcripts/00007720\" id=\"00007720\" onclick=\"javascript:window.location.href=this.getAttribute(\\'data-href\\');\" style=\"cursor : pointer;\" valign=\"top\">\\n  <td style=\"text-align : right;\">\\n   <a class=\"hide\" href=\"transcripts/00007720\">\\n    00007720\\n   </a>\\n  </td>\\n  <td>\\n   16\\n  </td>\\n  <td>\\n   FANCA\\n  </td>\\n  <td>\\n   transcript variant 1\\n  </td>\\n  <td>\\n   NM_000135.2\\n  </td>\\n  <td>\\n   NP_000126.2\\n  </td>\\n  <td class=\"ordered\" style=\"text-align : right;\">\\n   1904\\n  </td>\\n </tr>\\n <tr class=\"data\" data-href=\"/shared/transcripts/00010411\" id=\"00010411\" onclick=\"javascript:window.location.href=this.getAttribute(\\'data-href\\');\" style=\"cursor : pointer;\" valign=\"top\">\\n  <td style=\"text-align : right;\">\\n   <a class=\"hide\" href=\"transcripts/00010411\">\\n    00010411\\n   </a>\\n  </td>\\n  <td>\\n   11\\n  </td>\\n  <td>\\n   KCNQ1\\n  </td>\\n  <td>\\n   transcript variant 1\\n  </td>\\n  <td>\\n   NM_000218.2\\n  </td>\\n  <td>\\n   NP_000209.2\\n  </td>\\n  <td class=\"ordered\" style=\"text-align : right;\">\\n   1882\\n  </td>\\n </tr>\\n <tr class=\"data\" data-href=\"/shared/transcripts/00000685\" id=\"00000685\" onclick=\"javascript:window.location.href=this.getAttribute(\\'data-href\\');\" style=\"cursor : pointer;\" valign=\"top\">\\n  <td style=\"text-align : right;\">\\n   <a class=\"hide\" href=\"transcripts/00000685\">\\n    00000685\\n   </a>\\n  </td>\\n  <td>\\n   X\\n  </td>\\n  <td>\\n   BTK\\n  </td>\\n  <td>\\n   transcript variant 1\\n  </td>\\n  <td>\\n   NM_000061.2\\n  </td>\\n  <td>\\n   NP_000052.1\\n  </td>\\n  <td class=\"ordered\" style=\"text-align : right;\">\\n   1806\\n  </td>\\n </tr>\\n <tr class=\"data\" data-href=\"/shared/transcripts/00001219\" id=\"00001219\" onclick=\"javascript:window.location.href=this.getAttribute(\\'data-href\\');\" style=\"cursor : pointer;\" valign=\"top\">\\n  <td style=\"text-align : right;\">\\n   <a class=\"hide\" href=\"transcripts/00001219\">\\n    00001219\\n   </a>\\n  </td>\\n  <td>\\n   6\\n  </td>\\n  <td>\\n   SYNE1\\n  </td>\\n  <td>\\n   transcript variant 1\\n  </td>\\n  <td>\\n   NM_182961.3\\n  </td>\\n  <td>\\n   NP_892006.3\\n  </td>\\n  <td class=\"ordered\" style=\"text-align : right;\">\\n   1789\\n  </td>\\n </tr>\\n <tr class=\"data\" data-href=\"/shared/transcripts/00017482\" id=\"00017482\" onclick=\"javascript:window.location.href=this.getAttribute(\\'data-href\\');\" style=\"cursor : pointer;\" valign=\"top\">\\n  <td style=\"text-align : right;\">\\n   <a class=\"hide\" href=\"transcripts/00017482\">\\n    00017482\\n   </a>\\n  </td>\\n  <td>\\n   13\\n  </td>\\n  <td>\\n   RB1\\n  </td>\\n  <td>\\n   retinoblastoma 1\\n  </td>\\n  <td>\\n   NM_000321.2\\n  </td>\\n  <td>\\n   NP_000312.2\\n  </td>\\n  <td class=\"ordered\" style=\"text-align : right;\">\\n   1788\\n  </td>\\n </tr>\\n <tr class=\"data\" data-href=\"/shared/transcripts/00014115\" id=\"00014115\" onclick=\"javascript:window.location.href=this.getAttribute(\\'data-href\\');\" style=\"cursor : pointer;\" valign=\"top\">\\n  <td style=\"text-align : right;\">\\n   <a class=\"hide\" href=\"transcripts/00014115\">\\n    00014115\\n   </a>\\n  </td>\\n  <td>\\n   11\\n  </td>\\n  <td>\\n   MYBPC3\\n  </td>\\n  <td>\\n   myosin binding protein C, cardiac\\n  </td>\\n  <td>\\n   NM_000256.3\\n  </td>\\n  <td>\\n   NP_000247.2\\n  </td>\\n  <td class=\"ordered\" style=\"text-align : right;\">\\n   1738\\n  </td>\\n </tr>\\n <tr class=\"data\" data-href=\"/shared/transcripts/00023950\" id=\"00023950\" onclick=\"javascript:window.location.href=this.getAttribute(\\'data-href\\');\" style=\"cursor : pointer;\" valign=\"top\">\\n  <td style=\"text-align : right;\">\\n   <a class=\"hide\" href=\"transcripts/00023950\">\\n    00023950\\n   </a>\\n  </td>\\n  <td>\\n   16\\n  </td>\\n  <td>\\n   PKD1\\n  </td>\\n  <td>\\n   transcript variant 1\\n  </td>\\n  <td>\\n   NM_001009944.2\\n  </td>\\n  <td>\\n   NP_001009944.2\\n  </td>\\n  <td class=\"ordered\" style=\"text-align : right;\">\\n   1710\\n  </td>\\n </tr>\\n <tr class=\"data\" data-href=\"/shared/transcripts/00014138\" id=\"00014138\" onclick=\"javascript:window.location.href=this.getAttribute(\\'data-href\\');\" style=\"cursor : pointer;\" valign=\"top\">\\n  <td style=\"text-align : right;\">\\n   <a class=\"hide\" href=\"transcripts/00014138\">\\n    00014138\\n   </a>\\n  </td>\\n  <td>\\n   14\\n  </td>\\n  <td>\\n   MYH7\\n  </td>\\n  <td>\\n   myosin, heavy chain 7, cardiac muscle, beta\\n  </td>\\n  <td>\\n   NM_000257.2\\n  </td>\\n  <td>\\n   NP_000248.2\\n  </td>\\n  <td class=\"ordered\" style=\"text-align : right;\">\\n   1667\\n  </td>\\n </tr>\\n <tr class=\"data\" data-href=\"/shared/transcripts/00002740\" id=\"00002740\" onclick=\"javascript:window.location.href=this.getAttribute(\\'data-href\\');\" style=\"cursor : pointer;\" valign=\"top\">\\n  <td style=\"text-align : right;\">\\n   <a class=\"hide\" href=\"transcripts/00002740\">\\n    00002740\\n   </a>\\n  </td>\\n  <td>\\n   X\\n  </td>\\n  <td>\\n   AR\\n  </td>\\n  <td>\\n   transcript variant 1\\n  </td>\\n  <td>\\n   NM_000044.3\\n  </td>\\n  <td>\\n   NP_000035.2\\n  </td>\\n  <td class=\"ordered\" style=\"text-align : right;\">\\n   1603\\n  </td>\\n </tr>\\n <tr class=\"data\" data-href=\"/shared/transcripts/00018333\" id=\"00018333\" onclick=\"javascript:window.location.href=this.getAttribute(\\'data-href\\');\" style=\"cursor : pointer;\" valign=\"top\">\\n  <td style=\"text-align : right;\">\\n   <a class=\"hide\" href=\"transcripts/00018333\">\\n    00018333\\n   </a>\\n  </td>\\n  <td>\\n   19\\n  </td>\\n  <td>\\n   RYR1\\n  </td>\\n  <td>\\n   transcript variant 1\\n  </td>\\n  <td>\\n   NM_000540.2\\n  </td>\\n  <td>\\n   NP_000531.2\\n  </td>\\n  <td class=\"ordered\" style=\"text-align : right;\">\\n   1602\\n  </td>\\n </tr>\\n <tr class=\"data\" data-href=\"/shared/transcripts/00024011\" id=\"00024011\" onclick=\"javascript:window.location.href=this.getAttribute(\\'data-href\\');\" style=\"cursor : pointer;\" valign=\"top\">\\n  <td style=\"text-align : right;\">\\n   <a class=\"hide\" href=\"transcripts/00024011\">\\n    00024011\\n   </a>\\n  </td>\\n  <td>\\n   5\\n  </td>\\n  <td>\\n   NKX2-5\\n  </td>\\n  <td>\\n   transcript variant 1\\n  </td>\\n  <td>\\n   NM_004387.3\\n  </td>\\n  <td>\\n   NP_004378.1\\n  </td>\\n  <td class=\"ordered\" style=\"text-align : right;\">\\n   1586\\n  </td>\\n </tr>\\n <tr class=\"data\" data-href=\"/shared/transcripts/00009914\" id=\"00009914\" onclick=\"javascript:window.location.href=this.getAttribute(\\'data-href\\');\" style=\"cursor : pointer;\" valign=\"top\">\\n  <td style=\"text-align : right;\">\\n   <a class=\"hide\" href=\"transcripts/00009914\">\\n    00009914\\n   </a>\\n  </td>\\n  <td>\\n   X\\n  </td>\\n  <td>\\n   IKBKG\\n  </td>\\n  <td>\\n   transcript variant 3\\n  </td>\\n  <td>\\n   NM_003639.3\\n  </td>\\n  <td>\\n   NP_003630.1\\n  </td>\\n  <td class=\"ordered\" style=\"text-align : right;\">\\n   1563\\n  </td>\\n </tr>\\n <tr class=\"data\" data-href=\"/shared/transcripts/00000864\" id=\"00000864\" onclick=\"javascript:window.location.href=this.getAttribute(\\'data-href\\');\" style=\"cursor : pointer;\" valign=\"top\">\\n  <td style=\"text-align : right;\">\\n   <a class=\"hide\" href=\"transcripts/00000864\">\\n    00000864\\n   </a>\\n  </td>\\n  <td>\\n   16\\n  </td>\\n  <td>\\n   ABCC6\\n  </td>\\n  <td>\\n   transcript variant 1\\n  </td>\\n  <td>\\n   NM_001171.5\\n  </td>\\n  <td>\\n   NP_001162.4\\n  </td>\\n  <td class=\"ordered\" style=\"text-align : right;\">\\n   1549\\n  </td>\\n </tr>\\n <tr class=\"data\" data-href=\"/shared/transcripts/00018523\" id=\"00018523\" onclick=\"javascript:window.location.href=this.getAttribute(\\'data-href\\');\" style=\"cursor : pointer;\" valign=\"top\">\\n  <td style=\"text-align : right;\">\\n   <a class=\"hide\" href=\"transcripts/00018523\">\\n    00018523\\n   </a>\\n  </td>\\n  <td>\\n   3\\n  </td>\\n  <td>\\n   SCN5A\\n  </td>\\n  <td>\\n   transcript variant 1\\n  </td>\\n  <td>\\n   NM_198056.2\\n  </td>\\n  <td>\\n   NP_932173.1\\n  </td>\\n  <td class=\"ordered\" style=\"text-align : right;\">\\n   1533\\n  </td>\\n </tr>\\n <tr class=\"data\" data-href=\"/shared/transcripts/00025225\" id=\"00025225\" onclick=\"javascript:window.location.href=this.getAttribute(\\'data-href\\');\" style=\"cursor : pointer;\" valign=\"top\">\\n  <td style=\"text-align : right;\">\\n   <a class=\"hide\" href=\"transcripts/00025225\">\\n    00025225\\n   </a>\\n  </td>\\n  <td>\\n   X\\n  </td>\\n  <td>\\n   SHOX\\n  </td>\\n  <td>\\n   transcript variant 2\\n  </td>\\n  <td>\\n   NM_006883.2\\n  </td>\\n  <td>\\n   NP_006874.1\\n  </td>\\n  <td class=\"ordered\" style=\"text-align : right;\">\\n   1517\\n  </td>\\n </tr>\\n <tr class=\"data\" data-href=\"/shared/transcripts/00015623\" id=\"00015623\" onclick=\"javascript:window.location.href=this.getAttribute(\\'data-href\\');\" style=\"cursor : pointer;\" valign=\"top\">\\n  <td style=\"text-align : right;\">\\n   <a class=\"hide\" href=\"transcripts/00015623\">\\n    00015623\\n   </a>\\n  </td>\\n  <td>\\n   16\\n  </td>\\n  <td>\\n   PALB2\\n  </td>\\n  <td>\\n   partner and localizer of BRCA2\\n  </td>\\n  <td>\\n   NM_024675.3\\n  </td>\\n  <td>\\n   NP_078951.2\\n  </td>\\n  <td class=\"ordered\" style=\"text-align : right;\">\\n   1515\\n  </td>\\n </tr>\\n <tr class=\"data\" data-href=\"/shared/transcripts/00000116\" id=\"00000116\" onclick=\"javascript:window.location.href=this.getAttribute(\\'data-href\\');\" style=\"cursor : pointer;\" valign=\"top\">\\n  <td style=\"text-align : right;\">\\n   <a class=\"hide\" href=\"transcripts/00000116\">\\n    00000116\\n   </a>\\n  </td>\\n  <td>\\n   7\\n  </td>\\n  <td>\\n   CFTR\\n  </td>\\n  <td>\\n   cystic fibrosis transmembrane conductance regulator (ATP-binding cassette sub-family C, member 7)\\n  </td>\\n  <td>\\n   NM_000492.3\\n  </td>\\n  <td>\\n   NP_000483.3\\n  </td>\\n  <td class=\"ordered\" style=\"text-align : right;\">\\n   1428\\n  </td>\\n </tr>\\n <tr class=\"data\" data-href=\"/shared/transcripts/00008409\" id=\"00008409\" onclick=\"javascript:window.location.href=this.getAttribute(\\'data-href\\');\" style=\"cursor : pointer;\" valign=\"top\">\\n  <td style=\"text-align : right;\">\\n   <a class=\"hide\" href=\"transcripts/00008409\">\\n    00008409\\n   </a>\\n  </td>\\n  <td>\\n   7\\n  </td>\\n  <td>\\n   GCK\\n  </td>\\n  <td>\\n   transcript variant 1\\n  </td>\\n  <td>\\n   NM_000162.3\\n  </td>\\n  <td>\\n   NP_000153.1\\n  </td>\\n  <td class=\"ordered\" style=\"text-align : right;\">\\n   1406\\n  </td>\\n </tr>\\n <tr class=\"data\" data-href=\"/shared/transcripts/00011445\" id=\"00011445\" onclick=\"javascript:window.location.href=this.getAttribute(\\'data-href\\');\" style=\"cursor : pointer;\" valign=\"top\">\\n  <td style=\"text-align : right;\">\\n   <a class=\"hide\" href=\"transcripts/00011445\">\\n    00011445\\n   </a>\\n  </td>\\n  <td>\\n   1\\n  </td>\\n  <td>\\n   LMNA\\n  </td>\\n  <td>\\n   transcript variant 1\\n  </td>\\n  <td>\\n   NM_170707.3\\n  </td>\\n  <td>\\n   NP_733821.1\\n  </td>\\n  <td class=\"ordered\" style=\"text-align : right;\">\\n   1363\\n  </td>\\n </tr>\\n <tr class=\"data\" data-href=\"/shared/transcripts/00023885\" id=\"00023885\" onclick=\"javascript:window.location.href=this.getAttribute(\\'data-href\\');\" style=\"cursor : pointer;\" valign=\"top\">\\n  <td style=\"text-align : right;\">\\n   <a class=\"hide\" href=\"transcripts/00023885\">\\n    00023885\\n   </a>\\n  </td>\\n  <td>\\n   12\\n  </td>\\n  <td>\\n   KMT2D\\n  </td>\\n  <td>\\n   lysine (K)-specific methyltransferase 2D\\n  </td>\\n  <td>\\n   NM_003482.3\\n  </td>\\n  <td>\\n   NP_003473.3\\n  </td>\\n  <td class=\"ordered\" style=\"text-align : right;\">\\n   1269\\n  </td>\\n </tr>\\n <tr class=\"data\" data-href=\"/shared/transcripts/00022703\" id=\"00022703\" onclick=\"javascript:window.location.href=this.getAttribute(\\'data-href\\');\" style=\"cursor : pointer;\" valign=\"top\">\\n  <td style=\"text-align : right;\">\\n   <a class=\"hide\" href=\"transcripts/00022703\">\\n    00022703\\n   </a>\\n  </td>\\n  <td>\\n   12\\n  </td>\\n  <td>\\n   VWF\\n  </td>\\n  <td>\\n   von Willebrand factor\\n  </td>\\n  <td>\\n   NM_000552.3\\n  </td>\\n  <td>\\n   NP_000543.2\\n  </td>\\n  <td class=\"ordered\" style=\"text-align : right;\">\\n   1251\\n  </td>\\n </tr>\\n <tr class=\"data\" data-href=\"/shared/transcripts/00007761\" id=\"00007761\" onclick=\"javascript:window.location.href=this.getAttribute(\\'data-href\\');\" style=\"cursor : pointer;\" valign=\"top\">\\n  <td style=\"text-align : right;\">\\n   <a class=\"hide\" href=\"transcripts/00007761\">\\n    00007761\\n   </a>\\n  </td>\\n  <td>\\n   15\\n  </td>\\n  <td>\\n   FBN1\\n  </td>\\n  <td>\\n   fibrillin 1\\n  </td>\\n  <td>\\n   NM_000138.4\\n  </td>\\n  <td>\\n   NP_000129.3\\n  </td>\\n  <td class=\"ordered\" style=\"text-align : right;\">\\n   1243\\n  </td>\\n </tr>\\n <tr class=\"data\" data-href=\"/shared/transcripts/00025226\" id=\"00025226\" onclick=\"javascript:window.location.href=this.getAttribute(\\'data-href\\');\" style=\"cursor : pointer;\" valign=\"top\">\\n  <td style=\"text-align : right;\">\\n   <a class=\"hide\" href=\"transcripts/00025226\">\\n    00025226\\n   </a>\\n  </td>\\n  <td>\\n   X\\n  </td>\\n  <td>\\n   SHOX\\n  </td>\\n  <td>\\n   transcript variant 1\\n  </td>\\n  <td>\\n   NM_000451.3\\n  </td>\\n  <td>\\n   NP_000442.1\\n  </td>\\n  <td class=\"ordered\" style=\"text-align : right;\">\\n   1234\\n  </td>\\n </tr>\\n <tr class=\"data\" data-href=\"/shared/transcripts/00007329\" id=\"00007329\" onclick=\"javascript:window.location.href=this.getAttribute(\\'data-href\\');\" style=\"cursor : pointer;\" valign=\"top\">\\n  <td style=\"text-align : right;\">\\n   <a class=\"hide\" href=\"transcripts/00007329\">\\n    00007329\\n   </a>\\n  </td>\\n  <td>\\n   6\\n  </td>\\n  <td>\\n   EYS\\n  </td>\\n  <td>\\n   transcript variant 1\\n  </td>\\n  <td>\\n   NM_001142800.1\\n  </td>\\n  <td>\\n   NP_001136272.1\\n  </td>\\n  <td class=\"ordered\" style=\"text-align : right;\">\\n   1219\\n  </td>\\n </tr>\\n <tr class=\"data\" data-href=\"/shared/transcripts/00018334\" id=\"00018334\" onclick=\"javascript:window.location.href=this.getAttribute(\\'data-href\\');\" style=\"cursor : pointer;\" valign=\"top\">\\n  <td style=\"text-align : right;\">\\n   <a class=\"hide\" href=\"transcripts/00018334\">\\n    00018334\\n   </a>\\n  </td>\\n  <td>\\n   1\\n  </td>\\n  <td>\\n   RYR2\\n  </td>\\n  <td>\\n   ryanodine receptor 2 (cardiac)\\n  </td>\\n  <td>\\n   NM_001035.2\\n  </td>\\n  <td>\\n   NP_001026.2\\n  </td>\\n  <td class=\"ordered\" style=\"text-align : right;\">\\n   1177\\n  </td>\\n </tr>\\n <tr class=\"data\" data-href=\"/shared/transcripts/00005647\" id=\"00005647\" onclick=\"javascript:window.location.href=this.getAttribute(\\'data-href\\');\" style=\"cursor : pointer;\" valign=\"top\">\\n  <td style=\"text-align : right;\">\\n   <a class=\"hide\" href=\"transcripts/00005647\">\\n    00005647\\n   </a>\\n  </td>\\n  <td>\\n   1\\n  </td>\\n  <td>\\n   CRB1\\n  </td>\\n  <td>\\n   transcript variant 1\\n  </td>\\n  <td>\\n   NM_201253.2\\n  </td>\\n  <td>\\n   NP_957705.1\\n  </td>\\n  <td class=\"ordered\" style=\"text-align : right;\">\\n   1164\\n  </td>\\n </tr>\\n <tr class=\"data\" data-href=\"/shared/transcripts/00005473\" id=\"00005473\" onclick=\"javascript:window.location.href=this.getAttribute(\\'data-href\\');\" style=\"cursor : pointer;\" valign=\"top\">\\n  <td style=\"text-align : right;\">\\n   <a class=\"hide\" href=\"transcripts/00005473\">\\n    00005473\\n   </a>\\n  </td>\\n  <td>\\n   2\\n  </td>\\n  <td>\\n   COL6A3\\n  </td>\\n  <td>\\n   transcript variant 1\\n  </td>\\n  <td>\\n   NM_004369.3\\n  </td>\\n  <td>\\n   NP_004360.2\\n  </td>\\n  <td class=\"ordered\" style=\"text-align : right;\">\\n   1162\\n  </td>\\n </tr>\\n <tr class=\"data\" data-href=\"/shared/transcripts/00000282\" id=\"00000282\" onclick=\"javascript:window.location.href=this.getAttribute(\\'data-href\\');\" style=\"cursor : pointer;\" valign=\"top\">\\n  <td style=\"text-align : right;\">\\n   <a class=\"hide\" href=\"transcripts/00000282\">\\n    00000282\\n   </a>\\n  </td>\\n  <td>\\n   9\\n  </td>\\n  <td>\\n   GLDC\\n  </td>\\n  <td>\\n   glycine dehydrogenase (decarboxylating)\\n  </td>\\n  <td>\\n   NM_000170.2\\n  </td>\\n  <td>\\n   NP_000161.2\\n  </td>\\n  <td class=\"ordered\" style=\"text-align : right;\">\\n   1145\\n  </td>\\n </tr>\\n <tr class=\"data\" data-href=\"/shared/transcripts/00006721\" id=\"00006721\" onclick=\"javascript:window.location.href=this.getAttribute(\\'data-href\\');\" style=\"cursor : pointer;\" valign=\"top\">\\n  <td style=\"text-align : right;\">\\n   <a class=\"hide\" href=\"transcripts/00006721\">\\n    00006721\\n   </a>\\n  </td>\\n  <td>\\n   6\\n  </td>\\n  <td>\\n   DSP\\n  </td>\\n  <td>\\n   transcript variant 1\\n  </td>\\n  <td>\\n   NM_004415.2\\n  </td>\\n  <td>\\n   NP_004406.2\\n  </td>\\n  <td class=\"ordered\" style=\"text-align : right;\">\\n   1133\\n  </td>\\n </tr>\\n <tr class=\"data\" data-href=\"/shared/transcripts/00005457\" id=\"00005457\" onclick=\"javascript:window.location.href=this.getAttribute(\\'data-href\\');\" style=\"cursor : pointer;\" valign=\"top\">\\n  <td style=\"text-align : right;\">\\n   <a class=\"hide\" href=\"transcripts/00005457\">\\n    00005457\\n   </a>\\n  </td>\\n  <td>\\n   12\\n  </td>\\n  <td>\\n   COL2A1\\n  </td>\\n  <td>\\n   transcript variant 1\\n  </td>\\n  <td>\\n   NM_001844.4\\n  </td>\\n  <td>\\n   NP_001835.3\\n  </td>\\n  <td class=\"ordered\" style=\"text-align : right;\">\\n   1117\\n  </td>\\n </tr>\\n <tr class=\"data\" data-href=\"/shared/transcripts/00002685\" id=\"00002685\" onclick=\"javascript:window.location.href=this.getAttribute(\\'data-href\\');\" style=\"cursor : pointer;\" valign=\"top\">\\n  <td style=\"text-align : right;\">\\n   <a class=\"hide\" href=\"transcripts/00002685\">\\n    00002685\\n   </a>\\n  </td>\\n  <td>\\n   2\\n  </td>\\n  <td>\\n   APOB\\n  </td>\\n  <td>\\n   apolipoprotein B (including Ag(x) antigen)\\n  </td>\\n  <td>\\n   NM_000384.2\\n  </td>\\n  <td>\\n   NP_000375.2\\n  </td>\\n  <td class=\"ordered\" style=\"text-align : right;\">\\n   1091\\n  </td>\\n </tr>\\n <tr class=\"data\" data-href=\"/shared/transcripts/00000077\" id=\"00000077\" onclick=\"javascript:window.location.href=this.getAttribute(\\'data-href\\');\" style=\"cursor : pointer;\" valign=\"top\">\\n  <td style=\"text-align : right;\">\\n   <a class=\"hide\" href=\"transcripts/00000077\">\\n    00000077\\n   </a>\\n  </td>\\n  <td>\\n   19\\n  </td>\\n  <td>\\n   GCDH\\n  </td>\\n  <td>\\n   glutaryl-CoA dehydrogenase, transcript variant 1\\n  </td>\\n  <td>\\n   NM_000159.2\\n  </td>\\n  <td>\\n   NP_000150.1\\n  </td>\\n  <td class=\"ordered\" style=\"text-align : right;\">\\n   1073\\n  </td>\\n </tr>\\n <tr class=\"data\" data-href=\"/shared/transcripts/00010358\" id=\"00010358\" onclick=\"javascript:window.location.href=this.getAttribute(\\'data-href\\');\" style=\"cursor : pointer;\" valign=\"top\">\\n  <td style=\"text-align : right;\">\\n   <a class=\"hide\" href=\"transcripts/00010358\">\\n    00010358\\n   </a>\\n  </td>\\n  <td>\\n   7\\n  </td>\\n  <td>\\n   KCNH2\\n  </td>\\n  <td>\\n   transcript variant 1\\n  </td>\\n  <td>\\n   NM_000238.3\\n  </td>\\n  <td>\\n   NP_000229.1\\n  </td>\\n  <td class=\"ordered\" style=\"text-align : right;\">\\n   1059\\n  </td>\\n </tr>\\n <tr class=\"data\" data-href=\"/shared/transcripts/00014736\" id=\"00014736\" onclick=\"javascript:window.location.href=this.getAttribute(\\'data-href\\');\" style=\"cursor : pointer;\" valign=\"top\">\\n  <td style=\"text-align : right;\">\\n   <a class=\"hide\" href=\"transcripts/00014736\">\\n    00014736\\n   </a>\\n  </td>\\n  <td>\\n   1\\n  </td>\\n  <td>\\n   NPHS2\\n  </td>\\n  <td>\\n   nephrosis 2, idiopathic, steroid-resistant (podocin)\\n  </td>\\n  <td>\\n   NM_014625.2\\n  </td>\\n  <td>\\n   NP_055440.1\\n  </td>\\n  <td class=\"ordered\" style=\"text-align : right;\">\\n   1044\\n  </td>\\n </tr>\\n <tr class=\"data\" data-href=\"/shared/transcripts/00014865\" id=\"00014865\" onclick=\"javascript:window.location.href=this.getAttribute(\\'data-href\\');\" style=\"cursor : pointer;\" valign=\"top\">\\n  <td style=\"text-align : right;\">\\n   <a class=\"hide\" href=\"transcripts/00014865\">\\n    00014865\\n   </a>\\n  </td>\\n  <td>\\n   16\\n  </td>\\n  <td>\\n   NTHL1\\n  </td>\\n  <td>\\n   nth endonuclease III-like 1 (E. coli)\\n  </td>\\n  <td>\\n   NM_002528.5\\n  </td>\\n  <td>\\n   NP_002519.1\\n  </td>\\n  <td class=\"ordered\" style=\"text-align : right;\">\\n   1043\\n  </td>\\n </tr>\\n <tr class=\"data\" data-href=\"/shared/transcripts/00014137\" id=\"00014137\" onclick=\"javascript:window.location.href=this.getAttribute(\\'data-href\\');\" style=\"cursor : pointer;\" valign=\"top\">\\n  <td style=\"text-align : right;\">\\n   <a class=\"hide\" href=\"transcripts/00014137\">\\n    00014137\\n   </a>\\n  </td>\\n  <td>\\n   14\\n  </td>\\n  <td>\\n   MYH6\\n  </td>\\n  <td>\\n   myosin, heavy chain 6, cardiac muscle, alpha\\n  </td>\\n  <td>\\n   NM_002471.3\\n  </td>\\n  <td>\\n   NP_002462.2\\n  </td>\\n  <td class=\"ordered\" style=\"text-align : right;\">\\n   1031\\n  </td>\\n </tr>\\n <tr class=\"data\" data-href=\"/shared/transcripts/00000046\" id=\"00000046\" onclick=\"javascript:window.location.href=this.getAttribute(\\'data-href\\');\" style=\"cursor : pointer;\" valign=\"top\">\\n  <td style=\"text-align : right;\">\\n   <a class=\"hide\" href=\"transcripts/00000046\">\\n    00000046\\n   </a>\\n  </td>\\n  <td>\\n   21\\n  </td>\\n  <td>\\n   CBS\\n  </td>\\n  <td>\\n   cystathionine-beta-synthase, transcript variant 1\\n  </td>\\n  <td>\\n   NM_000071.2\\n  </td>\\n  <td>\\n   NP_000062.1\\n  </td>\\n  <td class=\"ordered\" style=\"text-align : right;\">\\n   1009\\n  </td>\\n </tr>\\n <tr class=\"data\" data-href=\"/shared/transcripts/00011887\" id=\"00011887\" onclick=\"javascript:window.location.href=this.getAttribute(\\'data-href\\');\" style=\"cursor : pointer;\" valign=\"top\">\\n  <td style=\"text-align : right;\">\\n   <a class=\"hide\" href=\"transcripts/00011887\">\\n    00011887\\n   </a>\\n  </td>\\n  <td>\\n   18\\n  </td>\\n  <td>\\n   MC4R\\n  </td>\\n  <td>\\n   melanocortin 4 receptor\\n  </td>\\n  <td>\\n   NM_005912.2\\n  </td>\\n  <td>\\n   NP_005903.2\\n  </td>\\n  <td class=\"ordered\" style=\"text-align : right;\">\\n   990\\n  </td>\\n </tr>\\n <tr class=\"data\" data-href=\"/shared/transcripts/00000019\" id=\"00000019\" onclick=\"javascript:window.location.href=this.getAttribute(\\'data-href\\');\" style=\"cursor : pointer;\" valign=\"top\">\\n  <td style=\"text-align : right;\">\\n   <a class=\"hide\" href=\"transcripts/00000019\">\\n    00000019\\n   </a>\\n  </td>\\n  <td>\\n   3\\n  </td>\\n  <td>\\n   COL7A1\\n  </td>\\n  <td>\\n   collagen, type VII, alpha 1\\n  </td>\\n  <td>\\n   NM_000094.3\\n  </td>\\n  <td>\\n   NP_000085.1\\n  </td>\\n  <td class=\"ordered\" style=\"text-align : right;\">\\n   976\\n  </td>\\n </tr>\\n <tr class=\"data\" data-href=\"/shared/transcripts/00000101\" id=\"00000101\" onclick=\"javascript:window.location.href=this.getAttribute(\\'data-href\\');\" style=\"cursor : pointer;\" valign=\"top\">\\n  <td style=\"text-align : right;\">\\n   <a class=\"hide\" href=\"transcripts/00000101\">\\n    00000101\\n   </a>\\n  </td>\\n  <td>\\n   11\\n  </td>\\n  <td>\\n   DHCR7\\n  </td>\\n  <td>\\n   7-dehydrocholesterol reductase, transcript variant 1\\n  </td>\\n  <td>\\n   NM_001360.2\\n  </td>\\n  <td>\\n   NP_001351.2\\n  </td>\\n  <td class=\"ordered\" style=\"text-align : right;\">\\n   967\\n  </td>\\n </tr>\\n <tr class=\"data\" data-href=\"/shared/transcripts/00021697\" id=\"00021697\" onclick=\"javascript:window.location.href=this.getAttribute(\\'data-href\\');\" style=\"cursor : pointer;\" valign=\"top\">\\n  <td style=\"text-align : right;\">\\n   <a class=\"hide\" href=\"transcripts/00021697\">\\n    00021697\\n   </a>\\n  </td>\\n  <td>\\n   11\\n  </td>\\n  <td>\\n   TPP1\\n  </td>\\n  <td>\\n   tripeptidyl peptidase I\\n  </td>\\n  <td>\\n   NM_000391.3\\n  </td>\\n  <td>\\n   NP_000382.3\\n  </td>\\n  <td class=\"ordered\" style=\"text-align : right;\">\\n   951\\n  </td>\\n </tr>\\n <tr class=\"data\" data-href=\"/shared/transcripts/00005465\" id=\"00005465\" onclick=\"javascript:window.location.href=this.getAttribute(\\'data-href\\');\" style=\"cursor : pointer;\" valign=\"top\">\\n  <td style=\"text-align : right;\">\\n   <a class=\"hide\" href=\"transcripts/00005465\">\\n    00005465\\n   </a>\\n  </td>\\n  <td>\\n   2\\n  </td>\\n  <td>\\n   COL4A4\\n  </td>\\n  <td>\\n   collagen, type IV, alpha 4\\n  </td>\\n  <td>\\n   NM_000092.4\\n  </td>\\n  <td>\\n   NP_000083.3\\n  </td>\\n  <td class=\"ordered\" style=\"text-align : right;\">\\n   949\\n  </td>\\n </tr>\\n <tr class=\"data\" data-href=\"/shared/transcripts/00000181\" id=\"00000181\" onclick=\"javascript:window.location.href=this.getAttribute(\\'data-href\\');\" style=\"cursor : pointer;\" valign=\"top\">\\n  <td style=\"text-align : right;\">\\n   <a class=\"hide\" href=\"transcripts/00000181\">\\n    00000181\\n   </a>\\n  </td>\\n  <td>\\n   19\\n  </td>\\n  <td>\\n   FKRP\\n  </td>\\n  <td>\\n   fukutin related protein, transcript variant 1\\n  </td>\\n  <td>\\n   NM_024301.4\\n  </td>\\n  <td>\\n   NP_077277.1\\n  </td>\\n  <td class=\"ordered\" style=\"text-align : right;\">\\n   944\\n  </td>\\n </tr>\\n <tr class=\"data\" data-href=\"/shared/transcripts/00005463\" id=\"00005463\" onclick=\"javascript:window.location.href=this.getAttribute(\\'data-href\\');\" style=\"cursor : pointer;\" valign=\"top\">\\n  <td style=\"text-align : right;\">\\n   <a class=\"hide\" href=\"transcripts/00005463\">\\n    00005463\\n   </a>\\n  </td>\\n  <td>\\n   2\\n  </td>\\n  <td>\\n   COL4A3\\n  </td>\\n  <td>\\n   collagen, type IV, alpha 3 (Goodpasture antigen)\\n  </td>\\n  <td>\\n   NM_000091.4\\n  </td>\\n  <td>\\n   NP_000082.2\\n  </td>\\n  <td class=\"ordered\" style=\"text-align : right;\">\\n   941\\n  </td>\\n </tr>\\n <tr class=\"data\" data-href=\"/shared/transcripts/00015744\" id=\"00015744\" onclick=\"javascript:window.location.href=this.getAttribute(\\'data-href\\');\" style=\"cursor : pointer;\" valign=\"top\">\\n  <td style=\"text-align : right;\">\\n   <a class=\"hide\" href=\"transcripts/00015744\">\\n    00015744\\n   </a>\\n  </td>\\n  <td>\\n   10\\n  </td>\\n  <td>\\n   PCDH15\\n  </td>\\n  <td>\\n   transcript variant C\\n  </td>\\n  <td>\\n   NM_033056.3\\n  </td>\\n  <td>\\n   NP_149045.3\\n  </td>\\n  <td class=\"ordered\" style=\"text-align : right;\">\\n   941\\n  </td>\\n </tr>\\n <tr class=\"data\" data-href=\"/shared/transcripts/00018521\" id=\"00018521\" onclick=\"javascript:window.location.href=this.getAttribute(\\'data-href\\');\" style=\"cursor : pointer;\" valign=\"top\">\\n  <td style=\"text-align : right;\">\\n   <a class=\"hide\" href=\"transcripts/00018521\">\\n    00018521\\n   </a>\\n  </td>\\n  <td>\\n   17\\n  </td>\\n  <td>\\n   SCN4A\\n  </td>\\n  <td>\\n   sodium channel, voltage-gated, type IV, alpha subunit\\n  </td>\\n  <td>\\n   NM_000334.4\\n  </td>\\n  <td>\\n   NP_000325.4\\n  </td>\\n  <td class=\"ordered\" style=\"text-align : right;\">\\n   933\\n  </td>\\n </tr>\\n <tr class=\"data\" data-href=\"/shared/transcripts/00002917\" id=\"00002917\" onclick=\"javascript:window.location.href=this.getAttribute(\\'data-href\\');\" style=\"cursor : pointer;\" valign=\"top\">\\n  <td style=\"text-align : right;\">\\n   <a class=\"hide\" href=\"transcripts/00002917\">\\n    00002917\\n   </a>\\n  </td>\\n  <td>\\n   22\\n  </td>\\n  <td>\\n   ARSA\\n  </td>\\n  <td>\\n   transcript variant 1\\n  </td>\\n  <td>\\n   NM_000487.5\\n  </td>\\n  <td>\\n   NP_000478.3\\n  </td>\\n  <td class=\"ordered\" style=\"text-align : right;\">\\n   920\\n  </td>\\n </tr>\\n <tr class=\"data\" data-href=\"/shared/transcripts/00005471\" id=\"00005471\" onclick=\"javascript:window.location.href=this.getAttribute(\\'data-href\\');\" style=\"cursor : pointer;\" valign=\"top\">\\n  <td style=\"text-align : right;\">\\n   <a class=\"hide\" href=\"transcripts/00005471\">\\n    00005471\\n   </a>\\n  </td>\\n  <td>\\n   21\\n  </td>\\n  <td>\\n   COL6A1\\n  </td>\\n  <td>\\n   collagen, type VI, alpha 1\\n  </td>\\n  <td>\\n   NM_001848.2\\n  </td>\\n  <td>\\n   NP_001839.2\\n  </td>\\n  <td class=\"ordered\" style=\"text-align : right;\">\\n   917\\n  </td>\\n </tr>\\n <tr class=\"data\" data-href=\"/shared/transcripts/00024072\" id=\"00024072\" onclick=\"javascript:window.location.href=this.getAttribute(\\'data-href\\');\" style=\"cursor : pointer;\" valign=\"top\">\\n  <td style=\"text-align : right;\">\\n   <a class=\"hide\" href=\"transcripts/00024072\">\\n    00024072\\n   </a>\\n  </td>\\n  <td>\\n   7\\n  </td>\\n  <td>\\n   FLNC\\n  </td>\\n  <td>\\n   transcript variant 1\\n  </td>\\n  <td>\\n   NM_001458.4\\n  </td>\\n  <td>\\n   NP_001449.3\\n  </td>\\n  <td class=\"ordered\" style=\"text-align : right;\">\\n   911\\n  </td>\\n </tr>\\n <tr class=\"data\" data-href=\"/shared/transcripts/00005472\" id=\"00005472\" onclick=\"javascript:window.location.href=this.getAttribute(\\'data-href\\');\" style=\"cursor : pointer;\" valign=\"top\">\\n  <td style=\"text-align : right;\">\\n   <a class=\"hide\" href=\"transcripts/00005472\">\\n    00005472\\n   </a>\\n  </td>\\n  <td>\\n   21\\n  </td>\\n  <td>\\n   COL6A2\\n  </td>\\n  <td>\\n   transcript variant 2C2\\n  </td>\\n  <td>\\n   NM_001849.3\\n  </td>\\n  <td>\\n   NP_001840.3\\n  </td>\\n  <td class=\"ordered\" style=\"text-align : right;\">\\n   892\\n  </td>\\n </tr>\\n <tr class=\"data\" data-href=\"/shared/transcripts/00018798\" id=\"00018798\" onclick=\"javascript:window.location.href=this.getAttribute(\\'data-href\\');\" style=\"cursor : pointer;\" valign=\"top\">\\n  <td style=\"text-align : right;\">\\n   <a class=\"hide\" href=\"transcripts/00018798\">\\n    00018798\\n   </a>\\n  </td>\\n  <td>\\n   17\\n  </td>\\n  <td>\\n   SGCA\\n  </td>\\n  <td>\\n   transcript variant 1\\n  </td>\\n  <td>\\n   NM_000023.2\\n  </td>\\n  <td>\\n   NP_000014.1\\n  </td>\\n  <td class=\"ordered\" style=\"text-align : right;\">\\n   855\\n  </td>\\n </tr>\\n <tr class=\"data\" data-href=\"/shared/transcripts/00023994\" id=\"00023994\" onclick=\"javascript:window.location.href=this.getAttribute(\\'data-href\\');\" style=\"cursor : pointer;\" valign=\"top\">\\n  <td style=\"text-align : right;\">\\n   <a class=\"hide\" href=\"transcripts/00023994\">\\n    00023994\\n   </a>\\n  </td>\\n  <td>\\n   2\\n  </td>\\n  <td>\\n   NEB\\n  </td>\\n  <td>\\n   transcript variant 4\\n  </td>\\n  <td>\\n   NM_001271208.1\\n  </td>\\n  <td>\\n   NP_001258137.1\\n  </td>\\n  <td class=\"ordered\" style=\"text-align : right;\">\\n   854\\n  </td>\\n </tr>\\n <tr class=\"data\" data-href=\"/shared/transcripts/00008556\" id=\"00008556\" onclick=\"javascript:window.location.href=this.getAttribute(\\'data-href\\');\" style=\"cursor : pointer;\" valign=\"top\">\\n  <td style=\"text-align : right;\">\\n   <a class=\"hide\" href=\"transcripts/00008556\">\\n    00008556\\n   </a>\\n  </td>\\n  <td>\\n   X\\n  </td>\\n  <td>\\n   GLA\\n  </td>\\n  <td>\\n   galactosidase, alpha\\n  </td>\\n  <td>\\n   NM_000169.2\\n  </td>\\n  <td>\\n   NP_000160.1\\n  </td>\\n  <td class=\"ordered\" style=\"text-align : right;\">\\n   852\\n  </td>\\n </tr>\\n <tr class=\"data\" data-href=\"/shared/transcripts/00023887\" id=\"00023887\" onclick=\"javascript:window.location.href=this.getAttribute(\\'data-href\\');\" style=\"cursor : pointer;\" valign=\"top\">\\n  <td style=\"text-align : right;\">\\n   <a class=\"hide\" href=\"transcripts/00023887\">\\n    00023887\\n   </a>\\n  </td>\\n  <td>\\n   3\\n  </td>\\n  <td>\\n   OPA1\\n  </td>\\n  <td>\\n   transcript variant 1\\n  </td>\\n  <td>\\n   NM_015560.2\\n  </td>\\n  <td>\\n   NP_056375.2\\n  </td>\\n  <td class=\"ordered\" style=\"text-align : right;\">\\n   849\\n  </td>\\n </tr>\\n <tr class=\"data\" data-href=\"/shared/transcripts/00015048\" id=\"00015048\" onclick=\"javascript:window.location.href=this.getAttribute(\\'data-href\\');\" style=\"cursor : pointer;\" valign=\"top\">\\n  <td style=\"text-align : right;\">\\n   <a class=\"hide\" href=\"transcripts/00015048\">\\n    00015048\\n   </a>\\n  </td>\\n  <td>\\n   3\\n  </td>\\n  <td>\\n   OPA1\\n  </td>\\n  <td>\\n   transcript variant 8\\n  </td>\\n  <td>\\n   NM_130837.2\\n  </td>\\n  <td>\\n   NP_570850.2\\n  </td>\\n  <td class=\"ordered\" style=\"text-align : right;\">\\n   844\\n  </td>\\n </tr>\\n <tr class=\"data\" data-href=\"/shared/transcripts/00001012\" id=\"00001012\" onclick=\"javascript:window.location.href=this.getAttribute(\\'data-href\\');\" style=\"cursor : pointer;\" valign=\"top\">\\n  <td style=\"text-align : right;\">\\n   <a class=\"hide\" href=\"transcripts/00001012\">\\n    00001012\\n   </a>\\n  </td>\\n  <td>\\n   12\\n  </td>\\n  <td>\\n   PKP2\\n  </td>\\n  <td>\\n   transcript variant 2b\\n  </td>\\n  <td>\\n   NM_004572.3\\n  </td>\\n  <td>\\n   NP_004563.2\\n  </td>\\n  <td class=\"ordered\" style=\"text-align : right;\">\\n   842\\n  </td>\\n </tr>\\n <tr class=\"data\" data-href=\"/shared/transcripts/00022076\" id=\"00022076\" onclick=\"javascript:window.location.href=this.getAttribute(\\'data-href\\');\" style=\"cursor : pointer;\" valign=\"top\">\\n  <td style=\"text-align : right;\">\\n   <a class=\"hide\" href=\"transcripts/00022076\">\\n    00022076\\n   </a>\\n  </td>\\n  <td>\\n   18\\n  </td>\\n  <td>\\n   TTR\\n  </td>\\n  <td>\\n   transthyretin\\n  </td>\\n  <td>\\n   NM_000371.3\\n  </td>\\n  <td>\\n   NP_000362.1\\n  </td>\\n  <td class=\"ordered\" style=\"text-align : right;\">\\n   840\\n  </td>\\n </tr>\\n <tr class=\"data\" data-href=\"/shared/transcripts/00007320\" id=\"00007320\" onclick=\"javascript:window.location.href=this.getAttribute(\\'data-href\\');\" style=\"cursor : pointer;\" valign=\"top\">\\n  <td style=\"text-align : right;\">\\n   <a class=\"hide\" href=\"transcripts/00007320\">\\n    00007320\\n   </a>\\n  </td>\\n  <td>\\n   8\\n  </td>\\n  <td>\\n   EXT1\\n  </td>\\n  <td>\\n   exostosin 1\\n  </td>\\n  <td>\\n   NM_000127.2\\n  </td>\\n  <td>\\n   NP_000118.2\\n  </td>\\n  <td class=\"ordered\" style=\"text-align : right;\">\\n   832\\n  </td>\\n </tr>\\n <tr class=\"data\" data-href=\"/shared/transcripts/00024115\" id=\"00024115\" onclick=\"javascript:window.location.href=this.getAttribute(\\'data-href\\');\" style=\"cursor : pointer;\" valign=\"top\">\\n  <td style=\"text-align : right;\">\\n   <a class=\"hide\" href=\"transcripts/00024115\">\\n    00024115\\n   </a>\\n  </td>\\n  <td>\\n   19\\n  </td>\\n  <td>\\n   CACNA1A\\n  </td>\\n  <td>\\n   transcript variant 3\\n  </td>\\n  <td>\\n   NM_001127221.1\\n  </td>\\n  <td>\\n   NP_001120693.1\\n  </td>\\n  <td class=\"ordered\" style=\"text-align : right;\">\\n   824\\n  </td>\\n </tr>\\n <tr class=\"data\" data-href=\"/shared/transcripts/00016246\" id=\"00016246\" onclick=\"javascript:window.location.href=this.getAttribute(\\'data-href\\');\" style=\"cursor : pointer;\" valign=\"top\">\\n  <td style=\"text-align : right;\">\\n   <a class=\"hide\" href=\"transcripts/00016246\">\\n    00016246\\n   </a>\\n  </td>\\n  <td>\\n   1\\n  </td>\\n  <td>\\n   PKLR\\n  </td>\\n  <td>\\n   transcript variant 1\\n  </td>\\n  <td>\\n   NM_000298.5\\n  </td>\\n  <td>\\n   NP_000289.1\\n  </td>\\n  <td class=\"ordered\" style=\"text-align : right;\">\\n   820\\n  </td>\\n </tr>\\n <tr class=\"data\" data-href=\"/shared/transcripts/00018730\" id=\"00018730\" onclick=\"javascript:window.location.href=this.getAttribute(\\'data-href\\');\" style=\"cursor : pointer;\" valign=\"top\">\\n  <td style=\"text-align : right;\">\\n   <a class=\"hide\" href=\"transcripts/00018730\">\\n    00018730\\n   </a>\\n  </td>\\n  <td>\\n   11\\n  </td>\\n  <td>\\n   SERPING1\\n  </td>\\n  <td>\\n   transcript variant 1\\n  </td>\\n  <td>\\n   NM_000062.2\\n  </td>\\n  <td>\\n   NP_000053.2\\n  </td>\\n  <td class=\"ordered\" style=\"text-align : right;\">\\n   818\\n  </td>\\n </tr>\\n <tr class=\"data\" data-href=\"/shared/transcripts/00005994\" id=\"00005994\" onclick=\"javascript:window.location.href=this.getAttribute(\\'data-href\\');\" style=\"cursor : pointer;\" valign=\"top\">\\n  <td style=\"text-align : right;\">\\n   <a class=\"hide\" href=\"transcripts/00005994\">\\n    00005994\\n   </a>\\n  </td>\\n  <td>\\n   19\\n  </td>\\n  <td>\\n   CYP2A6\\n  </td>\\n  <td>\\n   cytochrome P450, family 2, subfamily A, polypeptide 6\\n  </td>\\n  <td>\\n   NM_000762.5\\n  </td>\\n  <td>\\n   NP_000753.3\\n  </td>\\n  <td class=\"ordered\" style=\"text-align : right;\">\\n   813\\n  </td>\\n </tr>\\n <tr class=\"data\" data-href=\"/shared/transcripts/00018066\" id=\"00018066\" onclick=\"javascript:window.location.href=this.getAttribute(\\'data-href\\');\" style=\"cursor : pointer;\" valign=\"top\">\\n  <td style=\"text-align : right;\">\\n   <a class=\"hide\" href=\"transcripts/00018066\">\\n    00018066\\n   </a>\\n  </td>\\n  <td>\\n   1\\n  </td>\\n  <td>\\n   RPE65\\n  </td>\\n  <td>\\n   retinal pigment epithelium-specific protein 65kDa\\n  </td>\\n  <td>\\n   NM_000329.2\\n  </td>\\n  <td>\\n   NP_000320.1\\n  </td>\\n  <td class=\"ordered\" style=\"text-align : right;\">\\n   812\\n  </td>\\n </tr>\\n</table>\\n'"
      ]
     },
     "execution_count": 11,
     "metadata": {},
     "output_type": "execute_result"
    }
   ],
   "source": [
    "a.prettify()"
   ]
  },
  {
   "cell_type": "code",
   "execution_count": 12,
   "metadata": {},
   "outputs": [],
   "source": [
    "a = pd.read_html(a.prettify(), converters={'ID': str})"
   ]
  },
  {
   "cell_type": "code",
   "execution_count": 13,
   "metadata": {},
   "outputs": [
    {
     "data": {
      "text/html": [
       "<div>\n",
       "<style scoped>\n",
       "    .dataframe tbody tr th:only-of-type {\n",
       "        vertical-align: middle;\n",
       "    }\n",
       "\n",
       "    .dataframe tbody tr th {\n",
       "        vertical-align: top;\n",
       "    }\n",
       "\n",
       "    .dataframe thead th {\n",
       "        text-align: right;\n",
       "    }\n",
       "</style>\n",
       "<table border=\"1\" class=\"dataframe\">\n",
       "  <thead>\n",
       "    <tr style=\"text-align: right;\">\n",
       "      <th></th>\n",
       "      <th>ID</th>\n",
       "      <th>Chr</th>\n",
       "      <th>Gene ID</th>\n",
       "      <th>Name</th>\n",
       "      <th>NCBI ID</th>\n",
       "      <th>NCBI Protein ID</th>\n",
       "      <th>Variants</th>\n",
       "    </tr>\n",
       "  </thead>\n",
       "  <tbody>\n",
       "    <tr>\n",
       "      <th>0</th>\n",
       "      <td>00003479</td>\n",
       "      <td>13</td>\n",
       "      <td>BRCA2</td>\n",
       "      <td>breast cancer 2, early onset</td>\n",
       "      <td>NM_000059.3</td>\n",
       "      <td>NP_000050.2</td>\n",
       "      <td>33008</td>\n",
       "    </tr>\n",
       "    <tr>\n",
       "      <th>1</th>\n",
       "      <td>00003478</td>\n",
       "      <td>17</td>\n",
       "      <td>BRCA1</td>\n",
       "      <td>transcript variant 1</td>\n",
       "      <td>NM_007294.3</td>\n",
       "      <td>NP_009225.1</td>\n",
       "      <td>31267</td>\n",
       "    </tr>\n",
       "    <tr>\n",
       "      <th>2</th>\n",
       "      <td>00000024</td>\n",
       "      <td>X</td>\n",
       "      <td>DMD</td>\n",
       "      <td>dystrophin, transcript variant Dp427m</td>\n",
       "      <td>NM_004006.2</td>\n",
       "      <td>NP_003997.1</td>\n",
       "      <td>26820</td>\n",
       "    </tr>\n",
       "    <tr>\n",
       "      <th>3</th>\n",
       "      <td>00000017</td>\n",
       "      <td>11</td>\n",
       "      <td>HBB</td>\n",
       "      <td>hemoglobin, beta</td>\n",
       "      <td>NM_000518.4</td>\n",
       "      <td>NP_000509.1</td>\n",
       "      <td>20926</td>\n",
       "    </tr>\n",
       "    <tr>\n",
       "      <th>4</th>\n",
       "      <td>00025456</td>\n",
       "      <td>X</td>\n",
       "      <td>G6PD</td>\n",
       "      <td>transcript variant 1</td>\n",
       "      <td>NM_000402.3</td>\n",
       "      <td>NP_000393.4</td>\n",
       "      <td>11035</td>\n",
       "    </tr>\n",
       "    <tr>\n",
       "      <th>...</th>\n",
       "      <td>...</td>\n",
       "      <td>...</td>\n",
       "      <td>...</td>\n",
       "      <td>...</td>\n",
       "      <td>...</td>\n",
       "      <td>...</td>\n",
       "      <td>...</td>\n",
       "    </tr>\n",
       "    <tr>\n",
       "      <th>95</th>\n",
       "      <td>00024115</td>\n",
       "      <td>19</td>\n",
       "      <td>CACNA1A</td>\n",
       "      <td>transcript variant 3</td>\n",
       "      <td>NM_001127221.1</td>\n",
       "      <td>NP_001120693.1</td>\n",
       "      <td>824</td>\n",
       "    </tr>\n",
       "    <tr>\n",
       "      <th>96</th>\n",
       "      <td>00016246</td>\n",
       "      <td>1</td>\n",
       "      <td>PKLR</td>\n",
       "      <td>transcript variant 1</td>\n",
       "      <td>NM_000298.5</td>\n",
       "      <td>NP_000289.1</td>\n",
       "      <td>820</td>\n",
       "    </tr>\n",
       "    <tr>\n",
       "      <th>97</th>\n",
       "      <td>00018730</td>\n",
       "      <td>11</td>\n",
       "      <td>SERPING1</td>\n",
       "      <td>transcript variant 1</td>\n",
       "      <td>NM_000062.2</td>\n",
       "      <td>NP_000053.2</td>\n",
       "      <td>818</td>\n",
       "    </tr>\n",
       "    <tr>\n",
       "      <th>98</th>\n",
       "      <td>00005994</td>\n",
       "      <td>19</td>\n",
       "      <td>CYP2A6</td>\n",
       "      <td>cytochrome P450, family 2, subfamily A, polype...</td>\n",
       "      <td>NM_000762.5</td>\n",
       "      <td>NP_000753.3</td>\n",
       "      <td>813</td>\n",
       "    </tr>\n",
       "    <tr>\n",
       "      <th>99</th>\n",
       "      <td>00018066</td>\n",
       "      <td>1</td>\n",
       "      <td>RPE65</td>\n",
       "      <td>retinal pigment epithelium-specific protein 65kDa</td>\n",
       "      <td>NM_000329.2</td>\n",
       "      <td>NP_000320.1</td>\n",
       "      <td>812</td>\n",
       "    </tr>\n",
       "  </tbody>\n",
       "</table>\n",
       "<p>100 rows × 7 columns</p>\n",
       "</div>"
      ],
      "text/plain": [
       "          ID Chr   Gene ID                                               Name  \\\n",
       "0   00003479  13     BRCA2                       breast cancer 2, early onset   \n",
       "1   00003478  17     BRCA1                               transcript variant 1   \n",
       "2   00000024   X       DMD              dystrophin, transcript variant Dp427m   \n",
       "3   00000017  11       HBB                                   hemoglobin, beta   \n",
       "4   00025456   X      G6PD                               transcript variant 1   \n",
       "..       ...  ..       ...                                                ...   \n",
       "95  00024115  19   CACNA1A                               transcript variant 3   \n",
       "96  00016246   1      PKLR                               transcript variant 1   \n",
       "97  00018730  11  SERPING1                               transcript variant 1   \n",
       "98  00005994  19    CYP2A6  cytochrome P450, family 2, subfamily A, polype...   \n",
       "99  00018066   1     RPE65  retinal pigment epithelium-specific protein 65kDa   \n",
       "\n",
       "           NCBI ID NCBI Protein ID  Variants  \n",
       "0      NM_000059.3     NP_000050.2     33008  \n",
       "1      NM_007294.3     NP_009225.1     31267  \n",
       "2      NM_004006.2     NP_003997.1     26820  \n",
       "3      NM_000518.4     NP_000509.1     20926  \n",
       "4      NM_000402.3     NP_000393.4     11035  \n",
       "..             ...             ...       ...  \n",
       "95  NM_001127221.1  NP_001120693.1       824  \n",
       "96     NM_000298.5     NP_000289.1       820  \n",
       "97     NM_000062.2     NP_000053.2       818  \n",
       "98     NM_000762.5     NP_000753.3       813  \n",
       "99     NM_000329.2     NP_000320.1       812  \n",
       "\n",
       "[100 rows x 7 columns]"
      ]
     },
     "execution_count": 13,
     "metadata": {},
     "output_type": "execute_result"
    }
   ],
   "source": [
    "a[0]"
   ]
  },
  {
   "cell_type": "code",
   "execution_count": 14,
   "metadata": {},
   "outputs": [],
   "source": [
    "genes_list.append(a[0])"
   ]
  },
  {
   "cell_type": "code",
   "execution_count": 15,
   "metadata": {},
   "outputs": [],
   "source": [
    "x=pd.concat(genes_list)"
   ]
  },
  {
   "cell_type": "code",
   "execution_count": 35,
   "metadata": {},
   "outputs": [
    {
     "ename": "TypeError",
     "evalue": "expected string or bytes-like object",
     "output_type": "error",
     "traceback": [
      "\u001b[0;31m---------------------------------------------------------------------------\u001b[0m",
      "\u001b[0;31mTypeError\u001b[0m                                 Traceback (most recent call last)",
      "\u001b[0;32m<ipython-input-35-7895d38916d5>\u001b[0m in \u001b[0;36m<module>\u001b[0;34m\u001b[0m\n\u001b[0;32m----> 1\u001b[0;31m \u001b[0mre\u001b[0m\u001b[0;34m.\u001b[0m\u001b[0msub\u001b[0m\u001b[0;34m(\u001b[0m\u001b[0;34m\"[^0-9a-zA-Z]+\"\u001b[0m\u001b[0;34m,\u001b[0m\u001b[0;34m\"_\"\u001b[0m\u001b[0;34m,\u001b[0m\u001b[0mx\u001b[0m\u001b[0;34m.\u001b[0m\u001b[0mcolumns\u001b[0m\u001b[0;34m.\u001b[0m\u001b[0mstr\u001b[0m\u001b[0;34m)\u001b[0m\u001b[0;34m\u001b[0m\u001b[0;34m\u001b[0m\u001b[0m\n\u001b[0m",
      "\u001b[0;32m~/.pyenv/versions/3.6.10/lib/python3.6/re.py\u001b[0m in \u001b[0;36msub\u001b[0;34m(pattern, repl, string, count, flags)\u001b[0m\n\u001b[1;32m    189\u001b[0m     \u001b[0ma\u001b[0m \u001b[0mcallable\u001b[0m\u001b[0;34m,\u001b[0m \u001b[0mit\u001b[0m\u001b[0;31m'\u001b[0m\u001b[0ms\u001b[0m \u001b[0mpassed\u001b[0m \u001b[0mthe\u001b[0m \u001b[0mmatch\u001b[0m \u001b[0mobject\u001b[0m \u001b[0;32mand\u001b[0m \u001b[0mmust\u001b[0m \u001b[0;32mreturn\u001b[0m\u001b[0;34m\u001b[0m\u001b[0;34m\u001b[0m\u001b[0m\n\u001b[1;32m    190\u001b[0m     a replacement string to be used.\"\"\"\n\u001b[0;32m--> 191\u001b[0;31m     \u001b[0;32mreturn\u001b[0m \u001b[0m_compile\u001b[0m\u001b[0;34m(\u001b[0m\u001b[0mpattern\u001b[0m\u001b[0;34m,\u001b[0m \u001b[0mflags\u001b[0m\u001b[0;34m)\u001b[0m\u001b[0;34m.\u001b[0m\u001b[0msub\u001b[0m\u001b[0;34m(\u001b[0m\u001b[0mrepl\u001b[0m\u001b[0;34m,\u001b[0m \u001b[0mstring\u001b[0m\u001b[0;34m,\u001b[0m \u001b[0mcount\u001b[0m\u001b[0;34m)\u001b[0m\u001b[0;34m\u001b[0m\u001b[0;34m\u001b[0m\u001b[0m\n\u001b[0m\u001b[1;32m    192\u001b[0m \u001b[0;34m\u001b[0m\u001b[0m\n\u001b[1;32m    193\u001b[0m \u001b[0;32mdef\u001b[0m \u001b[0msubn\u001b[0m\u001b[0;34m(\u001b[0m\u001b[0mpattern\u001b[0m\u001b[0;34m,\u001b[0m \u001b[0mrepl\u001b[0m\u001b[0;34m,\u001b[0m \u001b[0mstring\u001b[0m\u001b[0;34m,\u001b[0m \u001b[0mcount\u001b[0m\u001b[0;34m=\u001b[0m\u001b[0;36m0\u001b[0m\u001b[0;34m,\u001b[0m \u001b[0mflags\u001b[0m\u001b[0;34m=\u001b[0m\u001b[0;36m0\u001b[0m\u001b[0;34m)\u001b[0m\u001b[0;34m:\u001b[0m\u001b[0;34m\u001b[0m\u001b[0;34m\u001b[0m\u001b[0m\n",
      "\u001b[0;31mTypeError\u001b[0m: expected string or bytes-like object"
     ]
    }
   ],
   "source": [
    "re.sub(\"[^0-9a-zA-Z]+\",\"_\",x.columns.str)"
   ]
  },
  {
   "cell_type": "code",
   "execution_count": 40,
   "metadata": {},
   "outputs": [
    {
     "data": {
      "text/plain": [
       "Index(['ID', 'Chr', 'Gene_ID', 'Name', 'NCBI_ID', 'NCBI_Protein_ID',\n",
       "       'Variants'],\n",
       "      dtype='object')"
      ]
     },
     "execution_count": 40,
     "metadata": {},
     "output_type": "execute_result"
    }
   ],
   "source": [
    "x.columns.str.replace(\"[^0-9a-zA-Z]+\",\"_\")"
   ]
  },
  {
   "cell_type": "code",
   "execution_count": null,
   "metadata": {},
   "outputs": [],
   "source": []
  }
 ],
 "metadata": {
  "kernelspec": {
   "display_name": "Python 3",
   "language": "python",
   "name": "python3"
  },
  "language_info": {
   "codemirror_mode": {
    "name": "ipython",
    "version": 3
   },
   "file_extension": ".py",
   "mimetype": "text/x-python",
   "name": "python",
   "nbconvert_exporter": "python",
   "pygments_lexer": "ipython3",
   "version": "3.6.10"
  }
 },
 "nbformat": 4,
 "nbformat_minor": 4
}
